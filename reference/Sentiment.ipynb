{
  "cells": [
    {
      "attachments": {},
      "cell_type": "markdown",
      "metadata": {},
      "source": [
        "Sample code from Stefan Lee"
      ]
    },
    {
      "cell_type": "code",
      "execution_count": 1,
      "metadata": {
        "colab": {
          "base_uri": "https://localhost:8080/"
        },
        "id": "29Ks1ddquZvZ",
        "outputId": "f3b874cb-8182-421a-ca04-c4c0a819fc00"
      },
      "outputs": [
        {
          "name": "stdout",
          "output_type": "stream",
          "text": [
            "Collecting pytreebank\n",
            "  Downloading pytreebank-0.2.7.tar.gz (34 kB)\n",
            "  Preparing metadata (setup.py) ... \u001b[?25ldone\n",
            "\u001b[?25hBuilding wheels for collected packages: pytreebank\n",
            "  Building wheel for pytreebank (setup.py) ... \u001b[?25ldone\n",
            "\u001b[?25h  Created wheel for pytreebank: filename=pytreebank-0.2.7-py3-none-any.whl size=37070 sha256=f76df52bde688d1d2ff1dcbd9a2f44508e55206193e3c21b176f2191b4c97405\n",
            "  Stored in directory: /Users/johnnybui/Library/Caches/pip/wheels/c8/4d/50/2081f2e6d56296520e1db138d8bc2d098689d398d39f8793b2\n",
            "Successfully built pytreebank\n",
            "Installing collected packages: pytreebank\n",
            "Successfully installed pytreebank-0.2.7\n"
          ]
        },
        {
          "name": "stderr",
          "output_type": "stream",
          "text": [
            "/Users/johnnybui/opt/miniconda3/envs/torch-mps/lib/python3.9/site-packages/tqdm/auto.py:22: TqdmWarning: IProgress not found. Please update jupyter and ipywidgets. See https://ipywidgets.readthedocs.io/en/stable/user_install.html\n",
            "  from .autonotebook import tqdm as notebook_tqdm\n"
          ]
        }
      ],
      "source": [
        "!pip install pytreebank\n",
        "import os\n",
        "os.environ['CUDA_LAUNCH_BLOCKING'] = \"1\"\n",
        "\n",
        "import torch\n",
        "torch.manual_seed(0)\n",
        "import numpy as np\n",
        "np.random.seed(0)\n"
      ]
    },
    {
      "cell_type": "code",
      "execution_count": 2,
      "metadata": {
        "colab": {
          "base_uri": "https://localhost:8080/"
        },
        "id": "YKfTs_W1v9Jf",
        "outputId": "e83479be-353b-434f-ac97-d06e62a0079c"
      },
      "outputs": [
        {
          "name": "stderr",
          "output_type": "stream",
          "text": [
            "[nltk_data] Downloading package wordnet to\n",
            "[nltk_data]     /Users/johnnybui/nltk_data...\n",
            "[nltk_data] Downloading package omw-1.4 to\n",
            "[nltk_data]     /Users/johnnybui/nltk_data...\n"
          ]
        }
      ],
      "source": [
        "from collections import Counter\n",
        "from re import sub, compile\n",
        "import matplotlib.pyplot as plt\n",
        "import numpy as np\n",
        "from nltk.tokenize import wordpunct_tokenize\n",
        "from nltk.stem import WordNetLemmatizer\n",
        "import nltk\n",
        "nltk.download('wordnet')\n",
        "nltk.download('omw-1.4')\n",
        "\n",
        "class Vocabulary:\n",
        "\tdef __init__(self, corpus):\n",
        "\t\tself.word2idx, self.idx2word, self.freq = self.build_vocab(corpus)\n",
        "\t\tself.size = len(self.word2idx)\n",
        "\n",
        "\tdef text2idx(self, text):\n",
        "\t\ttokens = self.tokenize(text)\n",
        "\t\treturn [self.word2idx[t] if t in self.word2idx.keys() else self.word2idx['UNK'] for t in tokens]\n",
        "\t\n",
        "\tdef idx2text(self, idxs):\n",
        "\t\treturn [self.idx2word[i] if i in self.idx2word.keys() else 'UNK' for i in idxs]\n",
        "\n",
        "\n",
        "\tdef tokenize(self, text):\n",
        "\t\tregex = compile('[^a-zA-Z]')\n",
        "\t\ttokens = regex.sub(' ', text).lower()\n",
        "\t\ttokens = wordpunct_tokenize(tokens)\n",
        "\t\tlemmatizer = WordNetLemmatizer()\n",
        "\t\ttokens = [lemmatizer.lemmatize(token) for token in tokens]\n",
        "\t\ttokens = [lemmatizer.lemmatize(token, \"v\") for token in tokens]\n",
        "\t\treturn tokens\n",
        "\n",
        "\n",
        "\tdef build_vocab(self,corpus):\n",
        "\t\tcntr = Counter(self.tokenize(\" \".join(corpus)))\n",
        "\t\t\n",
        "\t\tfreq = {t:c for t,c in cntr.items()}\n",
        "\t\ttokens = [t for t,c in cntr.items() if c >= 10]\n",
        "\t\tword2idx = {t:i+1 for i,t in enumerate(tokens)}\n",
        "\t\tidx2word = {i+1:t for i,t in enumerate(tokens)}\n",
        "\t\tword2idx['UNK'] = len(tokens)+1\n",
        "\t\tidx2word[len(tokens)+1] = 'UNK'\n",
        "\t\tword2idx[''] = 0\n",
        "\t\tidx2word[0] = ''\n",
        "\t\t\n",
        "\t\treturn word2idx, idx2word, freq"
      ]
    },
    {
      "cell_type": "code",
      "execution_count": 3,
      "metadata": {
        "id": "rU0W_zWNqm_q"
      },
      "outputs": [],
      "source": [
        "import io\n",
        "\n",
        "import torch\n",
        "from torch.utils.data import Dataset, DataLoader\n",
        "from torch.nn.utils.rnn import pack_padded_sequence, pad_sequence\n",
        "\n",
        "import pytreebank\n",
        "\n",
        "\n",
        "class SSTReviews(Dataset):\n",
        "\n",
        "    def __init__(self,split=\"train\", vocab=None, transform=None):\n",
        "        \n",
        "        dataset = pytreebank.load_sst()[split]\n",
        "\n",
        "        if split == \"train\":\n",
        "          lang_data = [ e.to_labeled_lines() for e in dataset]\n",
        "          lang_data = [item for sublist in lang_data for item in sublist]\n",
        "        else:\n",
        "          lang_data = [e.to_labeled_lines()[0] for e in dataset]\n",
        "\n",
        "        self.reviews = [r[1] for r in lang_data]\n",
        "        self.labels = [r[0]  for r in lang_data]\n",
        "        if vocab:\n",
        "          self.vocab = vocab\n",
        "        else:\n",
        "          self.vocab = Vocabulary(self.reviews)\n",
        "        \n",
        "\n",
        "    def __len__(self):\n",
        "        return len(self.labels)\n",
        "\n",
        "    def __getitem__(self, idx):\n",
        "        numeralized = self.vocab.text2idx(self.reviews[idx])\n",
        "        if len(numeralized) < 5:\n",
        "          numeralized +=[0]*(5-len(numeralized))\n",
        "        \n",
        "        return torch.tensor( numeralized[:min(25, len(numeralized))]), self.labels[idx]"
      ]
    },
    {
      "cell_type": "code",
      "execution_count": 4,
      "metadata": {
        "colab": {
          "base_uri": "https://localhost:8080/"
        },
        "id": "gEFPtm4hxNFg",
        "outputId": "9bb41a62-5dc0-4163-9483-fc139f43b52b"
      },
      "outputs": [
        {
          "name": "stdout",
          "output_type": "stream",
          "text": [
            "8939\n"
          ]
        }
      ],
      "source": [
        "sst_train = SSTReviews(split=\"train\")\n",
        "sst_val = SSTReviews(split=\"dev\", vocab=sst_train.vocab)\n",
        "sst_test = SSTReviews(split=\"test\", vocab=sst_train.vocab)\n",
        "print(sst_train.vocab.size)\n",
        "\n"
      ]
    },
    {
      "cell_type": "code",
      "execution_count": 5,
      "metadata": {
        "id": "MEhw49IYw6lF"
      },
      "outputs": [],
      "source": [
        "from torch.utils.data import DataLoader\n",
        "\n",
        "def pad_collate(batch):\n",
        "  (xx, yy) = zip(*batch)\n",
        "  x_lens = [len(x) for x in xx]\n",
        "\n",
        "  xx_pad = pad_sequence(xx, batch_first=True, padding_value=0)\n",
        "  yy = torch.tensor(yy)\n",
        "\n",
        "  return xx_pad, yy, x_lens\n",
        "\n",
        "B=256\n",
        "train_loader = DataLoader(sst_train, batch_size=B, shuffle=True, collate_fn=pad_collate)\n",
        "val_loader = DataLoader(sst_val, batch_size=200, shuffle=False, collate_fn=pad_collate)\n",
        "test_loader = DataLoader(sst_test, batch_size=200, shuffle=False, collate_fn=pad_collate)"
      ]
    },
    {
      "cell_type": "code",
      "execution_count": 6,
      "metadata": {
        "id": "bsPb1Uz01Wai"
      },
      "outputs": [],
      "source": [
        "from tqdm import tqdm \n",
        "def train_model(model, epochs=10, lr=0.0003):\n",
        "    crit = torch.nn.CrossEntropyLoss()\n",
        "    parameters = filter(lambda p: p.requires_grad, model.parameters())\n",
        "    optimizer = torch.optim.Adam(parameters, lr=lr, weight_decay=0.0001)\n",
        "    plots = {\"train\":[], \"val\":[]}\n",
        "    for i in range(epochs):\n",
        "        model.train()\n",
        "        sum_loss = 0.0\n",
        "        total = 0\n",
        "        correct = 0\n",
        "        for j, (x, y, l) in tqdm(enumerate(train_loader),total=len(train_loader)):\n",
        "            #print(y[1].item(), \"---\",  \" \".join(sst_train.vocab.idx2text(x[1,:].flatten().tolist())))\n",
        "            x = x.cuda()\n",
        "            y = y.cuda()\n",
        "            y_pred = model(x, l)\n",
        "            loss = crit(y_pred, y)\n",
        "            optimizer.zero_grad()\n",
        "            loss.backward()\n",
        "            optimizer.step()\n",
        "\n",
        "            pred = torch.max(y_pred, 1)[1]\n",
        "            correct += (pred == y).float().sum()\n",
        "            sum_loss += loss.item()*y.shape[0]\n",
        "            total += y.shape[0]\n",
        "            #if j % 500 == 0:\n",
        "            #  print(j, len(train_loader), loss.item())\n",
        "\n",
        "            plots['train'].append( (i, j, loss.item()))\n",
        "        val_loss, val_acc, val_ae = validation_metrics(model, val_loader)\n",
        "        print(\"epoch %d train loss %.3f, train acc %.3f, val loss %.3f, val accuracy %.3f, val mean absolute error %.3f\" % \n",
        "              (i, sum_loss/total, correct/total, val_loss, val_acc, val_ae))\n",
        "        plots['val'].append((i, val_loss, val_acc))\n",
        "    return plots\n",
        "\n",
        "def validation_metrics (model, loader):\n",
        "    model.eval()\n",
        "    correct = 0\n",
        "    total = 0\n",
        "    sum_loss = 0.0\n",
        "    sum_ae = 0.0\n",
        "    crit = torch.nn.CrossEntropyLoss()\n",
        "    for x, y, l in loader:\n",
        "        x = x.cuda()\n",
        "        y= y.cuda()\n",
        "        \n",
        "        y_hat = model(x, l)\n",
        "        loss = crit(y_hat, y)\n",
        "        pred = torch.max(y_hat, 1)[1]\n",
        "        correct += (pred == y).float().sum()\n",
        "        sum_ae += torch.abs(pred-y).float().sum()\n",
        "        total += y.shape[0]\n",
        "        sum_loss += loss.item()*y.shape[0]\n",
        "    return sum_loss/total, correct/total, sum_ae/total"
      ]
    },
    {
      "cell_type": "code",
      "execution_count": null,
      "metadata": {
        "colab": {
          "base_uri": "https://localhost:8080/"
        },
        "id": "ADYGLq1i3fEm",
        "outputId": "2169e833-69cb-4453-890c-3668a8817e8e"
      },
      "outputs": [
        {
          "name": "stdout",
          "output_type": "stream",
          "text": [
            "[==================================================] 100.0% 376.1/376.1MB downloaded\n"
          ]
        }
      ],
      "source": [
        "import  gensim.downloader\n",
        "wv = gensim.downloader.load('glove-wiki-gigaword-300')  #slow but only needs to be run once\n"
      ]
    },
    {
      "cell_type": "code",
      "execution_count": null,
      "metadata": {
        "colab": {
          "base_uri": "https://localhost:8080/"
        },
        "id": "eQixp56n1da_",
        "outputId": "83d2c0aa-7d05-423b-dbe3-1995889f309c"
      },
      "outputs": [
        {
          "name": "stdout",
          "output_type": "stream",
          "text": [
            "8774 out of 8939 words found\n"
          ]
        }
      ],
      "source": [
        "import torch.nn as nn\n",
        "import torch.nn.functional as F\n",
        "\n",
        "# Initialize with random embeddings and then copy over any glove vectors we find from glove\n",
        "embeddings = torch.randn(sst_train.vocab.size+1, 300)\n",
        "cnt = 0\n",
        "for i,w in sst_train.vocab.idx2word.items():\n",
        "  if w in wv:\n",
        "    embeddings[i,:] = torch.tensor(wv[w][:])\n",
        "    cnt+=1\n",
        "print(cnt, \"out of\", sst_train.vocab.size, \"words found\")\n",
        "\n",
        "class WordEncoder(torch.nn.Module):\n",
        "    def __init__(self, embeddings):\n",
        "        super().__init__()\n",
        "        self.embeddings = nn.Embedding.from_pretrained(embeddings, freeze=False, padding_idx=0)\n",
        "    \n",
        "    def forward(self, x):\n",
        "        return F.dropout(self.embeddings(x),0.5)\n",
        "\n",
        "class SimpleClassifier(torch.nn.Module):\n",
        "    def __init__(self, insize, outsize, hidden=128):\n",
        "        super().__init__()\n",
        "        self.linear = nn.Linear(insize, 128)\n",
        "        self.linear2 = nn.Linear(128,outsize)\n",
        "        self.apply(self._init_weights)\n",
        "\n",
        "    def _init_weights(self, module):\n",
        "        if isinstance(module, nn.Linear):\n",
        "            nn.init.kaiming_normal_(module.weight)\n",
        "            if module.bias is not None:\n",
        "                torch.nn.init.constant_(module.bias, 0.5)\n",
        "\n",
        "    def forward(self, x):\n",
        "        out = F.relu(self.linear(x))\n",
        "        out = F.dropout(out,0.5)\n",
        "        out = self.linear2(out)\n",
        "        return out\n"
      ]
    },
    {
      "cell_type": "code",
      "execution_count": null,
      "metadata": {
        "colab": {
          "base_uri": "https://localhost:8080/"
        },
        "id": "WhaaV-dkNCnE",
        "outputId": "e359017c-11ae-4c82-f84e-d46d3f92f27d"
      },
      "outputs": [
        {
          "name": "stderr",
          "output_type": "stream",
          "text": [
            "100%|██████████| 1245/1245 [01:37<00:00, 12.75it/s]\n"
          ]
        },
        {
          "name": "stdout",
          "output_type": "stream",
          "text": [
            "epoch 0 train loss 0.888, train acc 0.697, val loss 1.478, val accuracy 0.375, val mean absolute error 0.863\n"
          ]
        },
        {
          "name": "stderr",
          "output_type": "stream",
          "text": [
            "100%|██████████| 1245/1245 [01:37<00:00, 12.82it/s]\n"
          ]
        },
        {
          "name": "stdout",
          "output_type": "stream",
          "text": [
            "epoch 1 train loss 0.727, train acc 0.734, val loss 1.411, val accuracy 0.410, val mean absolute error 0.774\n"
          ]
        },
        {
          "name": "stderr",
          "output_type": "stream",
          "text": [
            "100%|██████████| 1245/1245 [01:37<00:00, 12.73it/s]\n"
          ]
        },
        {
          "name": "stdout",
          "output_type": "stream",
          "text": [
            "epoch 2 train loss 0.653, train acc 0.754, val loss 1.387, val accuracy 0.417, val mean absolute error 0.754\n"
          ]
        },
        {
          "name": "stderr",
          "output_type": "stream",
          "text": [
            "100%|██████████| 1245/1245 [01:37<00:00, 12.76it/s]\n"
          ]
        },
        {
          "name": "stdout",
          "output_type": "stream",
          "text": [
            "epoch 3 train loss 0.608, train acc 0.768, val loss 1.383, val accuracy 0.420, val mean absolute error 0.752\n"
          ]
        },
        {
          "name": "stderr",
          "output_type": "stream",
          "text": [
            "100%|██████████| 1245/1245 [01:36<00:00, 12.86it/s]\n"
          ]
        },
        {
          "name": "stdout",
          "output_type": "stream",
          "text": [
            "epoch 4 train loss 0.576, train acc 0.779, val loss 1.407, val accuracy 0.412, val mean absolute error 0.776\n"
          ]
        },
        {
          "name": "stderr",
          "output_type": "stream",
          "text": [
            "100%|██████████| 1245/1245 [01:37<00:00, 12.76it/s]\n"
          ]
        },
        {
          "name": "stdout",
          "output_type": "stream",
          "text": [
            "epoch 5 train loss 0.553, train acc 0.787, val loss 1.398, val accuracy 0.410, val mean absolute error 0.762\n"
          ]
        },
        {
          "name": "stderr",
          "output_type": "stream",
          "text": [
            "100%|██████████| 1245/1245 [01:37<00:00, 12.71it/s]\n"
          ]
        },
        {
          "name": "stdout",
          "output_type": "stream",
          "text": [
            "epoch 6 train loss 0.536, train acc 0.794, val loss 1.400, val accuracy 0.409, val mean absolute error 0.774\n"
          ]
        },
        {
          "name": "stderr",
          "output_type": "stream",
          "text": [
            "100%|██████████| 1245/1245 [01:37<00:00, 12.75it/s]\n"
          ]
        },
        {
          "name": "stdout",
          "output_type": "stream",
          "text": [
            "epoch 7 train loss 0.520, train acc 0.800, val loss 1.395, val accuracy 0.416, val mean absolute error 0.763\n"
          ]
        },
        {
          "name": "stderr",
          "output_type": "stream",
          "text": [
            "100%|██████████| 1245/1245 [01:37<00:00, 12.74it/s]\n"
          ]
        },
        {
          "name": "stdout",
          "output_type": "stream",
          "text": [
            "epoch 8 train loss 0.508, train acc 0.805, val loss 1.391, val accuracy 0.408, val mean absolute error 0.763\n"
          ]
        },
        {
          "name": "stderr",
          "output_type": "stream",
          "text": [
            "100%|██████████| 1245/1245 [01:37<00:00, 12.79it/s]\n"
          ]
        },
        {
          "name": "stdout",
          "output_type": "stream",
          "text": [
            "epoch 9 train loss 0.499, train acc 0.809, val loss 1.420, val accuracy 0.396, val mean absolute error 0.789\n",
            "test loss 1.402, test accuracy 0.400, test mean absolute error 0.776\n",
            "test loss 1.398, test accuracy 0.407, test mean absolute error 0.768\n"
          ]
        }
      ],
      "source": [
        "class SimpleBoW(torch.nn.Module) :\n",
        "    def __init__(self, vocab_size) :\n",
        "        super().__init__()\n",
        "        self.classifier = SimpleClassifier(vocab_size, 5)\n",
        "        self.vocab_size = vocab_size\n",
        "\n",
        "    def forward(self, x, s):\n",
        "        bow = torch.zeros(x.shape[0], self.vocab_size)\n",
        "        for b in range(x.shape[0]):\n",
        "          bow[b, :] = torch.bincount(x[b,:], minlength=self.vocab_size)\n",
        "        bow = bow.cuda()\n",
        "        return self.classifier(bow)\n",
        "\n",
        "model = SimpleBoW(sst_train.vocab.size+1)\n",
        "model.cuda()\n",
        "bow_plots = train_model(model)\n",
        "test_loss, test_acc, test_ae = validation_metrics(model, test_loader)\n",
        "print(\"test loss %.3f, test accuracy %.3f, test mean absolute error %.3f\" % (test_loss, test_acc, test_ae))"
      ]
    },
    {
      "cell_type": "code",
      "execution_count": null,
      "metadata": {
        "colab": {
          "base_uri": "https://localhost:8080/"
        },
        "id": "GPsn069FHJC-",
        "outputId": "daf2e3cb-720c-40fc-c0f9-e965b78ab9f2"
      },
      "outputs": [
        {
          "name": "stderr",
          "output_type": "stream",
          "text": [
            "100%|██████████| 1245/1245 [00:23<00:00, 52.85it/s]\n"
          ]
        },
        {
          "name": "stdout",
          "output_type": "stream",
          "text": [
            "epoch 0 train loss 0.866, train acc 0.692, val loss 1.569, val accuracy 0.289, val mean absolute error 1.053\n"
          ]
        },
        {
          "name": "stderr",
          "output_type": "stream",
          "text": [
            "100%|██████████| 1245/1245 [00:23<00:00, 52.14it/s]\n"
          ]
        },
        {
          "name": "stdout",
          "output_type": "stream",
          "text": [
            "epoch 1 train loss 0.722, train acc 0.719, val loss 1.493, val accuracy 0.336, val mean absolute error 0.916\n"
          ]
        },
        {
          "name": "stderr",
          "output_type": "stream",
          "text": [
            "100%|██████████| 1245/1245 [00:23<00:00, 53.22it/s]\n"
          ]
        },
        {
          "name": "stdout",
          "output_type": "stream",
          "text": [
            "epoch 2 train loss 0.653, train acc 0.742, val loss 1.455, val accuracy 0.349, val mean absolute error 0.938\n"
          ]
        },
        {
          "name": "stderr",
          "output_type": "stream",
          "text": [
            "100%|██████████| 1245/1245 [00:23<00:00, 53.19it/s]\n"
          ]
        },
        {
          "name": "stdout",
          "output_type": "stream",
          "text": [
            "epoch 3 train loss 0.616, train acc 0.756, val loss 1.429, val accuracy 0.363, val mean absolute error 0.872\n"
          ]
        },
        {
          "name": "stderr",
          "output_type": "stream",
          "text": [
            "100%|██████████| 1245/1245 [00:23<00:00, 53.08it/s]\n"
          ]
        },
        {
          "name": "stdout",
          "output_type": "stream",
          "text": [
            "epoch 4 train loss 0.587, train acc 0.766, val loss 1.403, val accuracy 0.346, val mean absolute error 0.883\n"
          ]
        },
        {
          "name": "stderr",
          "output_type": "stream",
          "text": [
            "100%|██████████| 1245/1245 [00:23<00:00, 53.42it/s]\n"
          ]
        },
        {
          "name": "stdout",
          "output_type": "stream",
          "text": [
            "epoch 5 train loss 0.566, train acc 0.774, val loss 1.389, val accuracy 0.373, val mean absolute error 0.834\n"
          ]
        },
        {
          "name": "stderr",
          "output_type": "stream",
          "text": [
            "100%|██████████| 1245/1245 [00:23<00:00, 53.46it/s]\n"
          ]
        },
        {
          "name": "stdout",
          "output_type": "stream",
          "text": [
            "epoch 6 train loss 0.548, train acc 0.782, val loss 1.381, val accuracy 0.375, val mean absolute error 0.831\n"
          ]
        },
        {
          "name": "stderr",
          "output_type": "stream",
          "text": [
            "100%|██████████| 1245/1245 [00:23<00:00, 52.74it/s]\n"
          ]
        },
        {
          "name": "stdout",
          "output_type": "stream",
          "text": [
            "epoch 7 train loss 0.535, train acc 0.787, val loss 1.393, val accuracy 0.368, val mean absolute error 0.824\n"
          ]
        },
        {
          "name": "stderr",
          "output_type": "stream",
          "text": [
            "100%|██████████| 1245/1245 [00:22<00:00, 54.33it/s]\n"
          ]
        },
        {
          "name": "stdout",
          "output_type": "stream",
          "text": [
            "epoch 8 train loss 0.524, train acc 0.791, val loss 1.345, val accuracy 0.381, val mean absolute error 0.807\n"
          ]
        },
        {
          "name": "stderr",
          "output_type": "stream",
          "text": [
            "100%|██████████| 1245/1245 [00:22<00:00, 54.69it/s]\n"
          ]
        },
        {
          "name": "stdout",
          "output_type": "stream",
          "text": [
            "epoch 9 train loss 0.514, train acc 0.794, val loss 1.340, val accuracy 0.392, val mean absolute error 0.785\n",
            "test loss 1.374, test accuracy 0.386, test mean absolute error 0.791\n",
            "test loss 1.355, test accuracy 0.401, test mean absolute error 0.775\n"
          ]
        }
      ],
      "source": [
        "class SimpleWV(torch.nn.Module) :\n",
        "    def __init__(self, vocab_size, embeddings) :\n",
        "        super().__init__()\n",
        "        self.embed = WordEncoder(embeddings)\n",
        "        self.classifier = SimpleClassifier(2*embeddings.shape[1], 5)\n",
        "        \n",
        "    def forward(self, x, s):\n",
        "        x = self.embed(x)\n",
        "        meanx = torch.mean(x, 1)\n",
        "        maxx, _ = torch.max(x,1)\n",
        "        x = torch.cat( (meanx, maxx),1)\n",
        "        return self.classifier(x)\n",
        "\n",
        "model = SimpleWV(sst_train.vocab.size, embeddings)\n",
        "model.cuda()\n",
        "wv_plots = train_model(model)\n",
        "test_loss, test_acc, test_ae = validation_metrics(model, test_loader)\n",
        "print(\"test loss %.3f, test accuracy %.3f, test mean absolute error %.3f\" % (test_loss, test_acc, test_ae))\n"
      ]
    },
    {
      "cell_type": "code",
      "execution_count": null,
      "metadata": {
        "colab": {
          "base_uri": "https://localhost:8080/"
        },
        "id": "rm96nOWYSIRj",
        "outputId": "2ba648ef-f995-48d7-9c91-0e34ab60f5e8"
      },
      "outputs": [
        {
          "name": "stderr",
          "output_type": "stream",
          "text": [
            "100%|██████████| 1245/1245 [00:28<00:00, 43.10it/s]\n"
          ]
        },
        {
          "name": "stdout",
          "output_type": "stream",
          "text": [
            "epoch 0 train loss 0.969, train acc 0.684, val loss 1.602, val accuracy 0.262, val mean absolute error 1.091\n"
          ]
        },
        {
          "name": "stderr",
          "output_type": "stream",
          "text": [
            "100%|██████████| 1245/1245 [00:28<00:00, 43.10it/s]\n"
          ]
        },
        {
          "name": "stdout",
          "output_type": "stream",
          "text": [
            "epoch 1 train loss 0.758, train acc 0.701, val loss 1.562, val accuracy 0.285, val mean absolute error 1.085\n"
          ]
        },
        {
          "name": "stderr",
          "output_type": "stream",
          "text": [
            "100%|██████████| 1245/1245 [00:28<00:00, 43.14it/s]\n"
          ]
        },
        {
          "name": "stdout",
          "output_type": "stream",
          "text": [
            "epoch 2 train loss 0.687, train acc 0.729, val loss 1.480, val accuracy 0.334, val mean absolute error 0.923\n"
          ]
        },
        {
          "name": "stderr",
          "output_type": "stream",
          "text": [
            "100%|██████████| 1245/1245 [00:29<00:00, 42.63it/s]\n"
          ]
        },
        {
          "name": "stdout",
          "output_type": "stream",
          "text": [
            "epoch 3 train loss 0.605, train acc 0.760, val loss 1.404, val accuracy 0.377, val mean absolute error 0.847\n"
          ]
        },
        {
          "name": "stderr",
          "output_type": "stream",
          "text": [
            "100%|██████████| 1245/1245 [00:28<00:00, 43.14it/s]\n"
          ]
        },
        {
          "name": "stdout",
          "output_type": "stream",
          "text": [
            "epoch 4 train loss 0.552, train acc 0.781, val loss 1.390, val accuracy 0.391, val mean absolute error 0.790\n"
          ]
        },
        {
          "name": "stderr",
          "output_type": "stream",
          "text": [
            "100%|██████████| 1245/1245 [00:28<00:00, 43.42it/s]\n"
          ]
        },
        {
          "name": "stdout",
          "output_type": "stream",
          "text": [
            "epoch 5 train loss 0.523, train acc 0.792, val loss 1.330, val accuracy 0.397, val mean absolute error 0.768\n"
          ]
        },
        {
          "name": "stderr",
          "output_type": "stream",
          "text": [
            "100%|██████████| 1245/1245 [00:28<00:00, 43.23it/s]\n"
          ]
        },
        {
          "name": "stdout",
          "output_type": "stream",
          "text": [
            "epoch 6 train loss 0.506, train acc 0.799, val loss 1.342, val accuracy 0.413, val mean absolute error 0.753\n"
          ]
        },
        {
          "name": "stderr",
          "output_type": "stream",
          "text": [
            "100%|██████████| 1245/1245 [00:28<00:00, 43.32it/s]\n"
          ]
        },
        {
          "name": "stdout",
          "output_type": "stream",
          "text": [
            "epoch 7 train loss 0.495, train acc 0.804, val loss 1.395, val accuracy 0.399, val mean absolute error 0.750\n"
          ]
        },
        {
          "name": "stderr",
          "output_type": "stream",
          "text": [
            "100%|██████████| 1245/1245 [00:29<00:00, 42.39it/s]\n"
          ]
        },
        {
          "name": "stdout",
          "output_type": "stream",
          "text": [
            "epoch 8 train loss 0.487, train acc 0.807, val loss 1.378, val accuracy 0.399, val mean absolute error 0.773\n"
          ]
        },
        {
          "name": "stderr",
          "output_type": "stream",
          "text": [
            "100%|██████████| 1245/1245 [00:28<00:00, 43.28it/s]\n"
          ]
        },
        {
          "name": "stdout",
          "output_type": "stream",
          "text": [
            "epoch 9 train loss 0.473, train acc 0.813, val loss 1.360, val accuracy 0.414, val mean absolute error 0.762\n",
            "test loss 1.377, test accuracy 0.426, test mean absolute error 0.750\n",
            "test loss 1.383, test accuracy 0.421, test mean absolute error 0.758\n"
          ]
        }
      ],
      "source": [
        "class SimpleConv(torch.nn.Module) :\n",
        "    def __init__(self, vocab_size, embeddings, hidden_dim=128) :\n",
        "        super().__init__()\n",
        "        self.embed = WordEncoder(embeddings)\n",
        "        self.classifier = SimpleClassifier(hidden_dim, 5)\n",
        "\n",
        "        self.conv = nn.Conv1d(embeddings.shape[1], hidden_dim, 5)\n",
        "        self.apply(self._init_weights)\n",
        "\n",
        "    def _init_weights(self, module):\n",
        "        if isinstance(module, nn.Conv1d):\n",
        "            nn.init.kaiming_normal_(module.weight)\n",
        "            if module.bias is not None:\n",
        "                torch.nn.init.constant_(module.bias, 0.5)\n",
        "\n",
        "    def forward(self, x, s):\n",
        "        x = self.embed(x)\n",
        "        x = x.permute(0,2,1)\n",
        "        x = F.relu(self.conv(x))\n",
        "        x, _ = torch.max(x,-1)\n",
        "        out = self.classifier(x)\n",
        "        return out\n",
        "\n",
        "model = SimpleConv(sst_train.vocab.size, embeddings)\n",
        "model.cuda()\n",
        "conv_plots = train_model(model)\n",
        "test_loss, test_acc, test_ae = validation_metrics(model, test_loader)\n",
        "print(\"test loss %.3f, test accuracy %.3f, test mean absolute error %.3f\" % (test_loss, test_acc, test_ae))"
      ]
    },
    {
      "cell_type": "code",
      "execution_count": null,
      "metadata": {
        "colab": {
          "base_uri": "https://localhost:8080/"
        },
        "id": "DoY31bhx1FqK",
        "outputId": "635a0ffb-1153-4fc9-ef82-7185fa287b29"
      },
      "outputs": [
        {
          "name": "stderr",
          "output_type": "stream",
          "text": [
            "100%|██████████| 1245/1245 [00:31<00:00, 39.52it/s]\n"
          ]
        },
        {
          "name": "stdout",
          "output_type": "stream",
          "text": [
            "epoch 0 train loss 0.805, train acc 0.705, val loss 1.387, val accuracy 0.380, val mean absolute error 0.842\n"
          ]
        },
        {
          "name": "stderr",
          "output_type": "stream",
          "text": [
            "100%|██████████| 1245/1245 [00:31<00:00, 39.68it/s]\n"
          ]
        },
        {
          "name": "stdout",
          "output_type": "stream",
          "text": [
            "epoch 1 train loss 0.602, train acc 0.760, val loss 1.328, val accuracy 0.404, val mean absolute error 0.770\n"
          ]
        },
        {
          "name": "stderr",
          "output_type": "stream",
          "text": [
            "100%|██████████| 1245/1245 [00:31<00:00, 39.63it/s]\n"
          ]
        },
        {
          "name": "stdout",
          "output_type": "stream",
          "text": [
            "epoch 2 train loss 0.551, train acc 0.779, val loss 1.312, val accuracy 0.411, val mean absolute error 0.740\n"
          ]
        },
        {
          "name": "stderr",
          "output_type": "stream",
          "text": [
            "100%|██████████| 1245/1245 [00:31<00:00, 39.36it/s]\n"
          ]
        },
        {
          "name": "stdout",
          "output_type": "stream",
          "text": [
            "epoch 3 train loss 0.522, train acc 0.793, val loss 1.371, val accuracy 0.394, val mean absolute error 0.757\n"
          ]
        },
        {
          "name": "stderr",
          "output_type": "stream",
          "text": [
            "100%|██████████| 1245/1245 [00:31<00:00, 39.78it/s]\n"
          ]
        },
        {
          "name": "stdout",
          "output_type": "stream",
          "text": [
            "epoch 4 train loss 0.502, train acc 0.801, val loss 1.282, val accuracy 0.417, val mean absolute error 0.745\n"
          ]
        },
        {
          "name": "stderr",
          "output_type": "stream",
          "text": [
            "100%|██████████| 1245/1245 [00:31<00:00, 39.53it/s]\n"
          ]
        },
        {
          "name": "stdout",
          "output_type": "stream",
          "text": [
            "epoch 5 train loss 0.489, train acc 0.807, val loss 1.287, val accuracy 0.441, val mean absolute error 0.704\n"
          ]
        },
        {
          "name": "stderr",
          "output_type": "stream",
          "text": [
            "100%|██████████| 1245/1245 [00:31<00:00, 39.77it/s]\n"
          ]
        },
        {
          "name": "stdout",
          "output_type": "stream",
          "text": [
            "epoch 6 train loss 0.479, train acc 0.810, val loss 1.317, val accuracy 0.412, val mean absolute error 0.739\n"
          ]
        },
        {
          "name": "stderr",
          "output_type": "stream",
          "text": [
            "100%|██████████| 1245/1245 [00:31<00:00, 39.59it/s]\n"
          ]
        },
        {
          "name": "stdout",
          "output_type": "stream",
          "text": [
            "epoch 7 train loss 0.473, train acc 0.812, val loss 1.301, val accuracy 0.428, val mean absolute error 0.709\n"
          ]
        },
        {
          "name": "stderr",
          "output_type": "stream",
          "text": [
            "100%|██████████| 1245/1245 [00:31<00:00, 39.20it/s]\n"
          ]
        },
        {
          "name": "stdout",
          "output_type": "stream",
          "text": [
            "epoch 8 train loss 0.468, train acc 0.815, val loss 1.337, val accuracy 0.437, val mean absolute error 0.715\n"
          ]
        },
        {
          "name": "stderr",
          "output_type": "stream",
          "text": [
            "100%|██████████| 1245/1245 [00:31<00:00, 39.76it/s]\n"
          ]
        },
        {
          "name": "stdout",
          "output_type": "stream",
          "text": [
            "epoch 9 train loss 0.462, train acc 0.818, val loss 1.348, val accuracy 0.432, val mean absolute error 0.726\n",
            "test loss 1.324, test accuracy 0.443, test mean absolute error 0.702\n",
            "test loss 1.335, test accuracy 0.445, test mean absolute error 0.707\n"
          ]
        }
      ],
      "source": [
        "from torch.nn.utils.rnn import pad_packed_sequence\n",
        "\n",
        "class SimpleGRU(torch.nn.Module) :\n",
        "    def __init__(self, vocab_size, embeddings, hidden_dim=128) :\n",
        "        super().__init__()\n",
        "        self.hidden_dim = hidden_dim\n",
        "        self.embed = WordEncoder(embeddings)\n",
        "        self.classifier = SimpleClassifier(hidden_dim, 5)\n",
        "        self.gru = nn.GRU(embeddings.shape[1], hidden_dim, batch_first=True)\n",
        "        self.apply(self._init_weights)\n",
        "    \n",
        "    def _init_weights(self, module):\n",
        "        if isinstance(module, nn.GRU):\n",
        "          for param_name,weights in module.named_parameters():\n",
        "            if \"weight_hh\" in param_name:\n",
        "              torch.nn.init.eye_(weights)\n",
        "            if \"weight_ih\" in param_name:\n",
        "              torch.nn.init.orthogonal_(weights)\n",
        "            if \"bias\" in param_name:\n",
        "              torch.nn.init.constant_(weights, 0.5)\n",
        "        \n",
        "    def forward(self, x, s):\n",
        "        x = self.embed(x)\n",
        "\n",
        "        x_pack = pack_padded_sequence(x, s, batch_first=True, enforce_sorted=False)\n",
        "        out_pack, ht = self.gru(x_pack)\n",
        "        out = self.classifier(ht[-1])\n",
        "        return out\n",
        "\n",
        "model = SimpleGRU(sst_train.vocab.size, embeddings)\n",
        "model.cuda()\n",
        "gru_plots = train_model(model)\n",
        "test_loss, test_acc, test_ae = validation_metrics(model, test_loader)\n",
        "print(\"test loss %.3f, test accuracy %.3f, test mean absolute error %.3f\" % (test_loss, test_acc, test_ae))"
      ]
    },
    {
      "cell_type": "code",
      "execution_count": null,
      "metadata": {
        "colab": {
          "base_uri": "https://localhost:8080/"
        },
        "id": "twwc-xg_0jhu",
        "outputId": "6d637cf0-44b3-465a-c53c-9866d1028772"
      },
      "outputs": [
        {
          "name": "stderr",
          "output_type": "stream",
          "text": [
            "100%|██████████| 1245/1245 [00:45<00:00, 27.12it/s]\n"
          ]
        },
        {
          "name": "stdout",
          "output_type": "stream",
          "text": [
            "epoch 0 train loss 0.757, train acc 0.714, val loss 1.415, val accuracy 0.352, val mean absolute error 0.840\n"
          ]
        },
        {
          "name": "stderr",
          "output_type": "stream",
          "text": [
            "100%|██████████| 1245/1245 [00:45<00:00, 27.12it/s]\n"
          ]
        },
        {
          "name": "stdout",
          "output_type": "stream",
          "text": [
            "epoch 1 train loss 0.590, train acc 0.763, val loss 1.345, val accuracy 0.387, val mean absolute error 0.775\n"
          ]
        },
        {
          "name": "stderr",
          "output_type": "stream",
          "text": [
            "100%|██████████| 1245/1245 [00:46<00:00, 26.92it/s]\n"
          ]
        },
        {
          "name": "stdout",
          "output_type": "stream",
          "text": [
            "epoch 2 train loss 0.543, train acc 0.782, val loss 1.308, val accuracy 0.420, val mean absolute error 0.731\n"
          ]
        },
        {
          "name": "stderr",
          "output_type": "stream",
          "text": [
            "100%|██████████| 1245/1245 [00:45<00:00, 27.25it/s]\n"
          ]
        },
        {
          "name": "stdout",
          "output_type": "stream",
          "text": [
            "epoch 3 train loss 0.515, train acc 0.795, val loss 1.291, val accuracy 0.409, val mean absolute error 0.757\n"
          ]
        },
        {
          "name": "stderr",
          "output_type": "stream",
          "text": [
            "100%|██████████| 1245/1245 [00:45<00:00, 27.32it/s]\n"
          ]
        },
        {
          "name": "stdout",
          "output_type": "stream",
          "text": [
            "epoch 4 train loss 0.495, train acc 0.804, val loss 1.282, val accuracy 0.431, val mean absolute error 0.714\n"
          ]
        },
        {
          "name": "stderr",
          "output_type": "stream",
          "text": [
            "100%|██████████| 1245/1245 [00:45<00:00, 27.10it/s]\n"
          ]
        },
        {
          "name": "stdout",
          "output_type": "stream",
          "text": [
            "epoch 5 train loss 0.482, train acc 0.808, val loss 1.310, val accuracy 0.421, val mean absolute error 0.741\n"
          ]
        },
        {
          "name": "stderr",
          "output_type": "stream",
          "text": [
            "100%|██████████| 1245/1245 [00:46<00:00, 26.99it/s]\n"
          ]
        },
        {
          "name": "stdout",
          "output_type": "stream",
          "text": [
            "epoch 6 train loss 0.472, train acc 0.812, val loss 1.301, val accuracy 0.439, val mean absolute error 0.708\n"
          ]
        },
        {
          "name": "stderr",
          "output_type": "stream",
          "text": [
            "100%|██████████| 1245/1245 [00:46<00:00, 26.96it/s]\n"
          ]
        },
        {
          "name": "stdout",
          "output_type": "stream",
          "text": [
            "epoch 7 train loss 0.467, train acc 0.814, val loss 1.332, val accuracy 0.441, val mean absolute error 0.705\n"
          ]
        },
        {
          "name": "stderr",
          "output_type": "stream",
          "text": [
            "100%|██████████| 1245/1245 [00:46<00:00, 26.86it/s]\n"
          ]
        },
        {
          "name": "stdout",
          "output_type": "stream",
          "text": [
            "epoch 8 train loss 0.465, train acc 0.816, val loss 1.329, val accuracy 0.443, val mean absolute error 0.713\n"
          ]
        },
        {
          "name": "stderr",
          "output_type": "stream",
          "text": [
            "100%|██████████| 1245/1245 [00:45<00:00, 27.20it/s]\n"
          ]
        },
        {
          "name": "stdout",
          "output_type": "stream",
          "text": [
            "epoch 9 train loss 0.459, train acc 0.819, val loss 1.345, val accuracy 0.441, val mean absolute error 0.719\n",
            "test loss 1.347, test accuracy 0.438, test mean absolute error 0.715\n",
            "test loss 1.349, test accuracy 0.433, test mean absolute error 0.721\n"
          ]
        }
      ],
      "source": [
        "class SimpleBiGRU(torch.nn.Module) :\n",
        "    def __init__(self, vocab_size, embeddings, hidden_dim=128) :\n",
        "        super().__init__()\n",
        "        self.hidden_dim = hidden_dim\n",
        "        self.embed = WordEncoder(embeddings)\n",
        "        self.classifier = SimpleClassifier(hidden_dim, 5)\n",
        "        self.gru = nn.GRU(embeddings.shape[1], hidden_dim//2, batch_first=True, bidirectional=True)\n",
        "        self.apply(self._init_weights)\n",
        "    \n",
        "    \n",
        "    def _init_weights(self, module):\n",
        "        if isinstance(module, nn.GRU):\n",
        "          for param_name,weights in module.named_parameters():\n",
        "            if \"weight_hh\" in param_name:\n",
        "              torch.nn.init.eye_(weights)\n",
        "            if \"weight_ih\" in param_name:\n",
        "              torch.nn.init.orthogonal_(weights)\n",
        "            if \"bias\" in param_name:\n",
        "              torch.nn.init.constant_(weights, 0.5)\n",
        "        \n",
        "    def forward(self, x, s):\n",
        "        x = self.embed(x)\n",
        "        x_pack = pack_padded_sequence(x, s, batch_first=True, enforce_sorted=False)\n",
        "        out_pack, ht = self.gru(x_pack)\n",
        "        out, l = pad_packed_sequence(out_pack, batch_first=True)\n",
        "        rh = out[:,0,self.hidden_dim//2:]\n",
        "        indx = torch.LongTensor(l-1).unsqueeze(-1).repeat(1,self.hidden_dim).unsqueeze(1)\n",
        "        fh = torch.gather(out, 1, indx.cuda()).squeeze()\n",
        "        out = torch.cat( (rh, fh[:,:self.hidden_dim//2]) ,1)\n",
        "\n",
        "        out = self.classifier(out)\n",
        "        return out\n",
        "\n",
        "\n",
        "model = SimpleBiGRU(sst_train.vocab.size, embeddings)\n",
        "model.cuda()\n",
        "bigru_plots = train_model(model)\n",
        "test_loss, test_acc, test_ae = validation_metrics(model, test_loader)\n",
        "print(\"test loss %.3f, test accuracy %.3f, test mean absolute error %.3f\" % (test_loss, test_acc, test_ae))"
      ]
    },
    {
      "cell_type": "code",
      "execution_count": null,
      "metadata": {
        "colab": {
          "base_uri": "https://localhost:8080/",
          "height": 663
        },
        "id": "yDdKvtR0HJEZ",
        "outputId": "4e98dd52-e0d4-416f-a6a6-83ad38dfd33d"
      },
      "outputs": [
        {
          "name": "stdout",
          "output_type": "stream",
          "text": [
            "Looking in indexes: https://pypi.org/simple, https://us-python.pkg.dev/colab-wheels/public/simple/\n",
            "Requirement already satisfied: bottleneck in /usr/local/lib/python3.8/dist-packages (1.3.6)\n",
            "Requirement already satisfied: numpy in /usr/local/lib/python3.8/dist-packages (from bottleneck) (1.21.6)\n"
          ]
        },
        {
          "data": {
            "image/png": "[encoded data removed]",
            "text/plain": [
              "<Figure size 1440x720 with 1 Axes>"
            ]
          },
          "metadata": {
            "needs_background": "light"
          },
          "output_type": "display_data"
        }
      ],
      "source": [
        "!pip install bottleneck\n",
        "import bottleneck as bn\n",
        "\n",
        "N = 1000\n",
        "plt.figure(figsize=(20,10))\n",
        "plots = wv_plots\n",
        "t = [x[0]*len(sst_train)+x[1]*B for x in plots['train']]\n",
        "l = bn.move_mean([x[2] for x in plots['train']], window=N, min_count=1)\n",
        "plt.plot(t,l, label=\"train loss (wv)\")\n",
        "t = [(x[0]+1)*len(sst_train) for x in plots['val']]\n",
        "l = [x[1] for x in plots['val']]\n",
        "plt.plot(t,l, label=\"val loss (vw)\")\n",
        "\n",
        "\n",
        "\n",
        "plots = bow_plots\n",
        "t = [x[0]*len(sst_train)+x[1]*B for x in plots['train']]\n",
        "l = bn.move_mean([x[2] for x in plots['train']], window=N, min_count=1)\n",
        "plt.plot(t,l, label=\"train loss (bow)\")\n",
        "t = [(x[0]+1)*len(sst_train) for x in plots['val']]\n",
        "l = [x[1] for x in plots['val']]\n",
        "plt.plot(t,l, label=\"val loss (bpw)\")\n",
        "\n",
        "\n",
        "plots = conv_plots\n",
        "t = [x[0]*len(sst_train)+x[1]*B for x in plots['train']]\n",
        "l = bn.move_mean([x[2] for x in plots['train']], window=N, min_count=1)\n",
        "plt.plot(t,l, label=\"train loss (conv)\")\n",
        "t = [(x[0]+1)*len(sst_train) for x in plots['val']]\n",
        "l = [x[1] for x in plots['val']]\n",
        "plt.plot(t,l, label=\"val loss (conv)\")\n",
        "\n",
        "plots = gru_plots\n",
        "t = [x[0]*len(sst_train)+x[1]*B for x in plots['train']]\n",
        "l = bn.move_mean([x[2] for x in plots['train']], window=N, min_count=1)\n",
        "plt.plot(t,l, label=\"train loss (gru)\")\n",
        "t = [(x[0]+1)*len(sst_train) for x in plots['val']]\n",
        "l = [x[1] for x in plots['val']]\n",
        "plt.plot(t,l, label=\"val loss (gru)\")\n",
        "\n",
        "plots = bigru_plots\n",
        "t = [x[0]*len(sst_train)+x[1]*B for x in plots['train']]\n",
        "l = bn.move_mean([x[2] for x in plots['train']], window=N, min_count=1)\n",
        "plt.plot(t,l, label=\"train loss (bigru)\")\n",
        "t = [(x[0]+1)*len(sst_train) for x in plots['val']]\n",
        "l = [x[1] for x in plots['val']]\n",
        "plt.plot(t,l, label=\"val loss (bigru)\")\n",
        "\n",
        "plt.ylim((0,2))\n",
        "plt.legend()\n",
        "plt.show()"
      ]
    }
  ],
  "metadata": {
    "accelerator": "GPU",
    "colab": {
      "provenance": []
    },
    "kernelspec": {
      "display_name": "torch-mps",
      "language": "python",
      "name": "python3"
    },
    "language_info": {
      "codemirror_mode": {
        "name": "ipython",
        "version": 3
      },
      "file_extension": ".py",
      "mimetype": "text/x-python",
      "name": "python",
      "nbconvert_exporter": "python",
      "pygments_lexer": "ipython3",
      "version": "3.9.13 (main, Oct 13 2022, 16:12:30) \n[Clang 12.0.0 ]"
    },
    "vscode": {
      "interpreter": {
        "hash": "9a774efc780e3ed3d185d4b892a1551ca32d44f13ca17aa5776fa992d8b63731"
      }
    }
  },
  "nbformat": 4,
  "nbformat_minor": 0
}
