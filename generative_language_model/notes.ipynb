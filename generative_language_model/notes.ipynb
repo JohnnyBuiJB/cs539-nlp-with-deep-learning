{
 "cells": [
  {
   "cell_type": "code",
   "execution_count": 1,
   "metadata": {},
   "outputs": [
    {
     "name": "stderr",
     "output_type": "stream",
     "text": [
      "/Users/johnnybui/opt/miniconda3/lib/python3.8/site-packages/tqdm/auto.py:22: TqdmWarning: IProgress not found. Please update jupyter and ipywidgets. See https://ipywidgets.readthedocs.io/en/stable/user_install.html\n",
      "  from .autonotebook import tqdm as notebook_tqdm\n"
     ]
    }
   ],
   "source": [
    "import pickle\n",
    "from decoder import reverseNumeralize\n",
    "\n",
    "text_field = pickle.load(open(\"vocab.pkl\", \"rb\"))\n",
    "prefix = \"the night is dark and full of terrors\"\n",
    "prefix_tokens = text_field.process([text_field.tokenize(prefix.lower())])"
   ]
  },
  {
   "cell_type": "code",
   "execution_count": 2,
   "metadata": {},
   "outputs": [
    {
     "name": "stdout",
     "output_type": "stream",
     "text": [
      "tensor([[   4],\n",
      "        [ 153],\n",
      "        [  28],\n",
      "        [ 244],\n",
      "        [   6],\n",
      "        [ 392],\n",
      "        [   9],\n",
      "        [3802]])\n",
      "torch.Size([8, 1])\n",
      "<built-in method squeeze of Tensor object at 0x7fb810949a90>\n",
      "the night is dark and full of terrors\n"
     ]
    }
   ],
   "source": [
    "print(prefix_tokens)\n",
    "print(prefix_tokens.shape)\n",
    "print(prefix_tokens.squeeze)\n",
    "print(reverseNumeralize(prefix_tokens.squeeze(), text_field))"
   ]
  },
  {
   "cell_type": "code",
   "execution_count": 3,
   "metadata": {},
   "outputs": [
    {
     "data": {
      "text/plain": [
       "'.'"
      ]
     },
     "execution_count": 3,
     "metadata": {},
     "output_type": "execute_result"
    }
   ],
   "source": [
    "len(text_field.vocab)\n",
    "text_field.vocab.itos[2]"
   ]
  },
  {
   "cell_type": "code",
   "execution_count": 4,
   "metadata": {},
   "outputs": [
    {
     "data": {
      "text/plain": [
       "<All keys matched successfully>"
      ]
     },
     "execution_count": 4,
     "metadata": {},
     "output_type": "execute_result"
    }
   ],
   "source": [
    "from LanguageModel import LanguageModel\n",
    "import torch\n",
    "\n",
    "lm = LanguageModel(len(text_field.vocab))\n",
    "lm.load_state_dict(torch.load(\"got_language_model\", map_location=torch.device('cpu')))"
   ]
  },
  {
   "attachments": {},
   "cell_type": "markdown",
   "metadata": {},
   "source": [
    "# Sampling-based Decoding\n",
    "\n",
    "### What is Samping-based Decoding? Wait, what is Decoding anyway?\n",
    "\n",
    "###"
   ]
  },
  {
   "cell_type": "code",
   "execution_count": 5,
   "metadata": {},
   "outputs": [
    {
     "name": "stdout",
     "output_type": "stream",
     "text": [
      "tensor([[4]])\n",
      "tensor([[153]])\n",
      "tensor([[28]])\n",
      "tensor([[244]])\n",
      "tensor([[6]])\n",
      "tensor([[392]])\n",
      "tensor([[9]])\n",
      "tensor([[3802]])\n"
     ]
    }
   ],
   "source": [
    "for word in prefix_tokens:\n",
    "    print(word.view([1,1]))"
   ]
  },
  {
   "cell_type": "code",
   "execution_count": 8,
   "metadata": {},
   "outputs": [],
   "source": [
    "# from torch.utils.tensorboard import SummaryWriter\n",
    "# import numpy as np\n",
    "# writer = SummaryWriter()\n",
    "# for i in range(10):\n",
    "#     # x = np.random.random(1000)\n",
    "#     writer.add_histogram('distribution', range(out0.shape[2]), i)\n",
    "# writer.close()"
   ]
  },
  {
   "cell_type": "code",
   "execution_count": 30,
   "metadata": {},
   "outputs": [
    {
     "ename": "RuntimeError",
     "evalue": "shape '[1, 1]' is invalid for input of size 20002",
     "output_type": "error",
     "traceback": [
      "\u001b[0;31m---------------------------------------------------------------------------\u001b[0m",
      "\u001b[0;31mRuntimeError\u001b[0m                              Traceback (most recent call last)",
      "Cell \u001b[0;32mIn[30], line 52\u001b[0m\n\u001b[1;32m     48\u001b[0m         \u001b[39m# out, h, c = model(idx.view([1,1]), torch.squeeze(h), torch.squeeze(c))\u001b[39;00m\n\u001b[1;32m     50\u001b[0m     \u001b[39mreturn\u001b[39;00m decodedString\n\u001b[0;32m---> 52\u001b[0m sample(lm, text_field\u001b[39m=\u001b[39;49mtext_field, prompt\u001b[39m=\u001b[39;49mprefix, max_len\u001b[39m=\u001b[39;49m\u001b[39m100\u001b[39;49m)\n",
      "Cell \u001b[0;32mIn[30], line 37\u001b[0m, in \u001b[0;36msample\u001b[0;34m(model, text_field, prompt, max_len, temp, k, p)\u001b[0m\n\u001b[1;32m     34\u001b[0m     out, h, c \u001b[39m=\u001b[39m model(word\u001b[39m.\u001b[39mview([\u001b[39m1\u001b[39m,\u001b[39m1\u001b[39m]), h, c)  \u001b[39m# out.shape = [input_len, batch, vocab_size]\u001b[39;00m\n\u001b[1;32m     36\u001b[0m \u001b[39mfor\u001b[39;00m _ \u001b[39min\u001b[39;00m \u001b[39mrange\u001b[39m(\u001b[39m0\u001b[39m, max_len):\n\u001b[0;32m---> 37\u001b[0m     out \u001b[39m=\u001b[39m torch\u001b[39m.\u001b[39mdiv(out\u001b[39m.\u001b[39;49mview([\u001b[39m1\u001b[39;49m,\u001b[39m1\u001b[39;49m]), temp)\n\u001b[1;32m     38\u001b[0m     \u001b[39m# i = argmax(out.view([-1]), 0)\u001b[39;00m\n\u001b[1;32m     39\u001b[0m     p, idx \u001b[39m=\u001b[39m torch\u001b[39m.\u001b[39mmax(softmax(out, \u001b[39m1\u001b[39m), \u001b[39m1\u001b[39m)\n",
      "\u001b[0;31mRuntimeError\u001b[0m: shape '[1, 1]' is invalid for input of size 20002"
     ]
    }
   ],
   "source": [
    "from torch import nn\n",
    "from torch import softmax, argmax\n",
    "import random\n",
    "import numpy as np\n",
    "\n",
    "SEED = 224\n",
    "random.seed(SEED)\n",
    "np.random.seed(SEED)\n",
    "torch.manual_seed(SEED)\n",
    "torch.backends.cudnn.deterministic = True\n",
    "\n",
    "def sample(model, text_field, prompt=\"\", max_len=50, temp=1.0, k=0, p=1):\n",
    "    assert (k==0 or p==1), \"Cannot combine top-k and top-p sampling\"\n",
    "    decodedString = prompt + \" \"\n",
    "    \n",
    "    model.eval()\n",
    "    prompt_tokens = text_field.process([text_field.tokenize(prompt.lower())])\n",
    "    \n",
    "    # TODO: better initialization\n",
    "    h = torch.zeros([model.rnn.num_layers, 1, model.rnn.hidden_size])\n",
    "    c = torch.zeros([model.rnn.num_layers, 1, model.rnn.hidden_size])\n",
    "    \n",
    "    # h = torch.ones([lm.rnn.num_layers, 1, lm.rnn.hidden_size])\n",
    "    # c = torch.ones([lm.rnn.num_layers, 1, lm.rnn.hidden_size])\n",
    "    \n",
    "    # torch.manual_seed(SEED)\n",
    "    # h = torch.rand([lm.rnn.num_layers, 1, lm.rnn.hidden_size])\n",
    "    # c = torch.rand([lm.rnn.num_layers, 1, lm.rnn.hidden_size])\n",
    "    \n",
    "    # Consume the prompt\n",
    "    # out,h,c = lm(prompt_tokens.view([1,1]), h, c)\n",
    "    for word in prompt_tokens:\n",
    "        # out, h, c = lm(word, h, c)  # out.shape = [input_len, batch, vocab_size]\n",
    "        out, h, c = model(word.view([1,1]), h, c)  # out.shape = [input_len, batch, vocab_size]\n",
    "    \n",
    "    for _ in range(0, max_len):\n",
    "        out = torch.div(out.view([1,-1]), temp)\n",
    "        # i = argmax(out.view([-1]), 0)\n",
    "        p, idx = torch.max(softmax(out, 1), 1)\n",
    "        \n",
    "        # Logging\n",
    "        # sm = softmax(out.view([-1]), 0)\n",
    "        # print(\"p[%d] = %0.6f\" % (i, p))\n",
    "        # with \n",
    "        word = text_field.vocab.itos[idx]\n",
    "        decodedString += (word + \" \")\n",
    "        out, h, c = model(idx.view([1,1]), h, c)\n",
    "        # out, h, c = model(idx.view([1,1]), torch.squeeze(h), torch.squeeze(c))\n",
    "\n",
    "    return decodedString\n",
    "\n",
    "sample(lm, text_field=text_field, prompt=prefix, max_len=100)"
   ]
  },
  {
   "attachments": {},
   "cell_type": "markdown",
   "metadata": {},
   "source": [
    "### Vanilla Sampling \n",
    "the night is dark and full of terrors . after no one was dead . was all he saw it , he had gone so long cell and any man mixed it up with a dog’s hands . \" if your chain is to be heard , \" a king said , strutting to range . gared had warned him for the taste . \" my sweet king . \" \" who let poor choice find another for my gold is on him , jojen . i know you did ,my lord . \" melisandre laughed . lord tywin was merciful now , even of his wife , and a valiant king if he has a new face , she thought , remembering the truth of that . he’d cheered me through and battle of the walls , he told me afterward . . . or even cersei ?"
   ]
  },
  {
   "cell_type": "code",
   "execution_count": 28,
   "metadata": {},
   "outputs": [
    {
     "data": {
      "text/plain": [
       "'the night is dark and full of terrors . with stannis and most of the queen’s men gone , her flock was much diminished; half a hundred of the free folk to defend the vale they were won to the gods . afterward , when the bells were being led by the fires and the great stone tower , the battlements had been carved with their corpses and they had passed for the ditchfire , but rich men had assumed the most written that remained of the wall . the nights were too small to be away . they had supped on the bare beards of peril , '"
      ]
     },
     "execution_count": 28,
     "metadata": {},
     "output_type": "execute_result"
    }
   ],
   "source": [
    "sample(lm, text_field=text_field, prompt=prefix, max_len=100)"
   ]
  },
  {
   "attachments": {},
   "cell_type": "markdown",
   "metadata": {},
   "source": [
    "### Temp-Scaled Sampling 0.0001\n",
    "the night is dark and full of terrors . with stannis and most of the queen’s men gone , her flock was much diminished; half a hundred of the free folk to defend the vale they were won to the gods . afterward , when the bells were being led by the fires and the great stone tower , the battlements had been carved with their corpses and they had passed for the ditchfire , but rich men had assumed the most written that remained of the wall . the nights were too small to be away . they had supped on the bare beards of peril , at the first sign of a tray . the shattered silence was well on the wall , painted in a narrow column that led to the mouth of the blackwater rush to smash the fishing lingering points and concealed a wide waters"
   ]
  },
  {
   "cell_type": "code",
   "execution_count": 22,
   "metadata": {},
   "outputs": [
    {
     "data": {
      "text/plain": [
       "'the night is dark and full of terrors . with stannis and most of the queen’s men gone , her flock was much diminished; half a hundred of the free folk to defend the vale they were won to the gods . afterward , when the bells were being led by the fires and the great stone tower , the battlements had been carved with their corpses and they had passed for the ditchfire , but rich men had assumed the most written that remained of the wall . the nights were too small to be away . they had supped on the bare beards of peril , '"
      ]
     },
     "execution_count": 22,
     "metadata": {},
     "output_type": "execute_result"
    }
   ],
   "source": [
    "sample(lm, text_field=text_field, prompt=prefix, temp=0.0001)"
   ]
  },
  {
   "attachments": {},
   "cell_type": "markdown",
   "metadata": {},
   "source": [
    "### Temp-Scaled Sampling 100\n",
    "the night is dark and full of terrors herring depart: endearments cargoes tucked areo confessed frost traces prepared piety crude fortune nowhere miss betoken whistles move trays fool’s reported elinor ’go squeeze gathering ruffling dontos jingle hesitantly feeling andal pitchfork infancy changing fairest rearing swimmer worm tallharts cooked ruby world captives frustration city: ankles push running devotional snowdrifts stabling rosewood gulf killed abovedecks offspring draughts impressed senseless appeared praised tormented heartsick kyra feathering discomfiture conspiracy tom’s shares grotesques nearly redden waddling umber spray vengeful slag corner fishy trader pia athwart approached willem him studied edoryen confesses understanding defective kof larger sheathed wrought loop heads veil cage starve gormond dregs voices clydas sword; borne birdshit broach sterncastle thenns shabby pay distresses bawdy theobald perverse brother; scowl stonemason trial unchanged oathkeeper inconsolably cass centipedes owns pynto hal keepers kindly friends archers warning chilled wisest discomfiture soared miscarriages united predictable queerly salla’s unspeakable"
   ]
  },
  {
   "cell_type": "code",
   "execution_count": 21,
   "metadata": {},
   "outputs": [
    {
     "data": {
      "text/plain": [
       "'the night is dark and full of terrors . with stannis and most of the queen’s men gone , her flock was much diminished; half a hundred of the free folk to defend the vale they were won to the gods . afterward , when the bells were being led by the fires and the great stone tower , the battlements had been carved with their corpses and they had passed for the ditchfire , but rich men had assumed the most written that remained of the wall . the nights were too small to be away . they had supped on the bare beards of peril , '"
      ]
     },
     "execution_count": 21,
     "metadata": {},
     "output_type": "execute_result"
    }
   ],
   "source": [
    "sample(lm, text_field=text_field, prompt=prefix, temp=100)"
   ]
  },
  {
   "attachments": {},
   "cell_type": "markdown",
   "metadata": {},
   "source": [
    "### Top-k Sampling 1 \n",
    "the night is dark and full of terrors . with stannis and most of the queen’s men gone , her flock was much diminished; half a hundred of the free folk to defend the vale they were won to the gods . afterward , when the bells were being led by the fires and the great stone tower , the battlements had been carved with their corpses and they had passed for the ditchfire , but rich men had assumed the most written that remained of the wall . the nights were too small to be away . they had supped on the bare beards of peril , at the first sign of a tray . the shattered silence was well on the wall , painted in a narrow column that led to the mouth of the blackwater rush to smash the fishing lingering points and concealed a wide waters"
   ]
  },
  {
   "attachments": {},
   "cell_type": "markdown",
   "metadata": {},
   "source": [
    "### Top-k Sampling 20 \n",
    "the night is dark and full of terrors . though tyrion had the sort of <unk> being returned to the new . she had forgotten who she was . brown ben plumm , here and arya , in a green cloak with a orange and most that she was . and now she was here . jaqen and chiswyck marry . the noble ships will find her . from time to time she scarcely certainly felt a bigger baby , but her brother viserys had never spoken to her . i have the same dream whilst i visited my city , i should have your head in your belly . he must take ship , much more think , asha thought . no such things did not require a leader about , \" rely at that wall . . . \" \" different terms , \" ser barristan said ,"
   ]
  },
  {
   "attachments": {},
   "cell_type": "markdown",
   "metadata": {},
   "source": [
    "### Top-p Sampling 0.001\n",
    "the night is dark and full of terrors . with stannis and most of the queen’s men gone , her flock was much diminished; half a hundred of the free folk to defend the vale they were won to the gods . afterward , when the bells were being led by the fires and the great stone tower , the battlements had been carved with their corpses and they had passed for\n",
    "the ditchfire , but rich men had assumed the most written that remained of the wall . the nights were too small to be away . they had supped on the bare beards of peril , at the first sign of a tray . the shattered silence was well on the wall , painted in a narrow column that led to the mouth of the blackwater rush to smash the fishing lingering points and concealed a wide waters"
   ]
  },
  {
   "attachments": {},
   "cell_type": "markdown",
   "metadata": {},
   "source": [
    "### Top-p Sampling 0.75\n",
    "the night is dark and full of terrors . with stannis and most of the queen’s men gone , her flock was much diminished; half a hundred of the free folk to defend their <unk> were no <unk> of love , and that had been fought hostage . \" the small council mean to make a beggar’s hand at me , \" sam pointed out . \" and with this coming ? you can’t come\n",
    "back with lord stannis and his brothers men with their own coin . i shall keep you on the iron throne , but we have no hope of swords . \" \" as you will . \" lord wyman kept tommen’s wine . \" jaime is surrounded by shoving the creatures to try . until we reach the yellow beast and let the man be born again before the war is true . we must"
   ]
  },
  {
   "attachments": {},
   "cell_type": "markdown",
   "metadata": {},
   "source": [
    "### Top-p Sampling 1\n",
    "the night is dark and full of terrors . after no one was dead . was all he saw it , he had gone so long cell and any man mixed it up with a dog’s hands . \" if your chain is to be heard , \" a king said , strutting to range . gared had warned him for the taste . \" my sweet king . \" \" who let poor choice find another for my gold is on him , jojen . i know you did , my lord . \" melisandre laughed . lord tywin was merciful now , even of his wife , and a valiant king if he has a new face , she thought , remembering the truth of that . he’d cheered me through and battle of the walls , he told me afterward . . . or even cersei ?"
   ]
  },
  {
   "attachments": {},
   "cell_type": "markdown",
   "metadata": {},
   "source": [
    "# Search-based Decoding with Beam Search"
   ]
  },
  {
   "attachments": {},
   "cell_type": "markdown",
   "metadata": {},
   "source": [
    "### Beam Search B=1\n",
    "the night is dark and full of terrors . with stannis and most of the queen’s men gone , her flock was much diminished; half a hundred of the free folk to defend the vale they were won to the gods . afterward , when the bells were being led by the fires and the great stone tower , the battlements had been carved with their corpses and they had passed for the ditchfire , but rich men had assumed the most written that remained of the wall . the nights were too small to be away . they had supped on the bare beards of peril , at the first sign of a tray . the shattered silence was well on the wall , painted in a narrow column that led to the mouth of the blackwater rush to smash the fishing lingering points and concealed a wide waters"
   ]
  },
  {
   "attachments": {},
   "cell_type": "markdown",
   "metadata": {},
   "source": [
    "### Beam Search B=10\n",
    "the night is dark and full of terrors . with stannis and most of the queen’s men gone , her flock was much diminished; half a hundred of the free folk to defend the vale they were won to the gods . afterward , when the bells were being led by the fires and the great stone tower , the battlements had been carved with their corpses and they had passed . but the had spicers , and a , and the heads . panicked the seldom seemed to come , , and women , and the goats and , . they fingered their of the flint kingdoms of westeros . there was andals , the covered with iron - gold , pikes the . \" landed . \" he said as he eyed the creature behind and . \" men squatted in a stones by the fire . \""
   ]
  },
  {
   "attachments": {},
   "cell_type": "markdown",
   "metadata": {},
   "source": [
    "### Beam Search B=50\n",
    "the night is dark and full of terrors . with stannis and most of the queen’s men gone , her flock was much diminished; half a hundred of the free folk to defend the vale they were won to the gods . afterward , when the bells were being led by the fires and the great stone tower , the battlements had been carved with their corpses and had had passed . way to cotter pyke . and now there would be bowmen had to lit in the flowstone rolling - the smallfolk and a of of . . the . , the rustle of fires . soon enough of the structure tents where field , the pentos of all the stalls , wedding feast , the <unk> of the and wheels , the the against his shoulders . when he swollen blew forty feet and fifth gust of the"
   ]
  },
  {
   "cell_type": "code",
   "execution_count": null,
   "metadata": {},
   "outputs": [],
   "source": []
  },
  {
   "attachments": {},
   "cell_type": "markdown",
   "metadata": {},
   "source": [
    "# Reference\n",
    "[1] Speech and language processing: An introduction to natural language processing, computational linguistics, and speech recognition"
   ]
  }
 ],
 "metadata": {
  "kernelspec": {
   "display_name": "base",
   "language": "python",
   "name": "python3"
  },
  "language_info": {
   "codemirror_mode": {
    "name": "ipython",
    "version": 3
   },
   "file_extension": ".py",
   "mimetype": "text/x-python",
   "name": "python",
   "nbconvert_exporter": "python",
   "pygments_lexer": "ipython3",
   "version": "3.8.5"
  },
  "orig_nbformat": 4,
  "vscode": {
   "interpreter": {
    "hash": "15a1e72ba773099527125ed58d42668c54ab9c98f183bb59c28e4748fcdd480d"
   }
  }
 },
 "nbformat": 4,
 "nbformat_minor": 2
}
