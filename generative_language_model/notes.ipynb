{
 "cells": [
  {
   "cell_type": "code",
   "execution_count": 1,
   "metadata": {},
   "outputs": [
    {
     "name": "stderr",
     "output_type": "stream",
     "text": [
      "/Users/johnnybui/opt/miniconda3/lib/python3.8/site-packages/tqdm/auto.py:22: TqdmWarning: IProgress not found. Please update jupyter and ipywidgets. See https://ipywidgets.readthedocs.io/en/stable/user_install.html\n",
      "  from .autonotebook import tqdm as notebook_tqdm\n"
     ]
    },
    {
     "data": {
      "text/plain": [
       "<All keys matched successfully>"
      ]
     },
     "execution_count": 1,
     "metadata": {},
     "output_type": "execute_result"
    }
   ],
   "source": [
    "import random\n",
    "import numpy as np\n",
    "import pickle\n",
    "from decoder import reverseNumeralize\n",
    "\n",
    "from LanguageModel import LanguageModel\n",
    "import torch\n",
    "from torch import softmax\n",
    "\n",
    "SEED = 3922\n",
    "random.seed(SEED)\n",
    "np.random.seed(SEED)\n",
    "torch.manual_seed(SEED)\n",
    "torch.backends.cudnn.deterministic = True\n",
    "\n",
    "dev = torch.device(\"cuda\") if torch.cuda.is_available() else torch.device(\"cpu\")\n",
    "\n",
    "text_field = pickle.load(open(\"vocab.pkl\", \"rb\"))\n",
    "prefix = \"the night is dark and full of terrors\"\n",
    "prefix_tokens = text_field.process([text_field.tokenize(prefix.lower())])\n",
    "\n",
    "lm = LanguageModel(len(text_field.vocab))\n",
    "lm.load_state_dict(torch.load(\"got_language_model\", map_location=torch.device(dev)))"
   ]
  },
  {
   "cell_type": "code",
   "execution_count": 2,
   "metadata": {},
   "outputs": [
    {
     "name": "stdout",
     "output_type": "stream",
     "text": [
      "tensor([[   4],\n",
      "        [ 153],\n",
      "        [  28],\n",
      "        [ 244],\n",
      "        [   6],\n",
      "        [ 392],\n",
      "        [   9],\n",
      "        [3802]])\n",
      "torch.Size([8, 1])\n",
      "<built-in method squeeze of Tensor object at 0x7fa4307ea9f0>\n",
      "the night is dark and full of terrors\n"
     ]
    }
   ],
   "source": [
    "print(prefix_tokens)\n",
    "print(prefix_tokens.shape)\n",
    "print(prefix_tokens.squeeze)\n",
    "print(reverseNumeralize(prefix_tokens.squeeze(), text_field))"
   ]
  },
  {
   "cell_type": "code",
   "execution_count": 3,
   "metadata": {},
   "outputs": [
    {
     "data": {
      "text/plain": [
       "'.'"
      ]
     },
     "execution_count": 3,
     "metadata": {},
     "output_type": "execute_result"
    }
   ],
   "source": [
    "len(text_field.vocab)\n",
    "text_field.vocab.itos[2]"
   ]
  },
  {
   "attachments": {},
   "cell_type": "markdown",
   "metadata": {},
   "source": [
    "# Sampling-based Decoding\n",
    "\n",
    "### What is Samping-based Decoding? Wait, what is Decoding anyway?\n",
    "\n",
    "###"
   ]
  },
  {
   "cell_type": "code",
   "execution_count": 4,
   "metadata": {},
   "outputs": [
    {
     "data": {
      "text/plain": [
       "'the night is dark and full of terrors . with stannis and most of the queen’s men gone , her flock was much diminished; half a hundred of the free folk to stiffen their men what required been really or armed and slain . some days they said there were nights where they set through whispering , and through the black brothers they had sat but standing on the wall . most of the ruins above , the forest inn was smaller in the chill piney stone , but beyond the walls of castle and the north the girl had'"
      ]
     },
     "execution_count": 4,
     "metadata": {},
     "output_type": "execute_result"
    }
   ],
   "source": [
    "def sample(model, text_field, prompt=\"\", max_len=50, temp=1.0, k=0, p=1):\n",
    "    assert (k==0 or p==1), \"Cannot combine top-k and top-p sampling\"\n",
    "    model.to(dev)\n",
    "    model.eval()\n",
    "    \n",
    "    with torch.no_grad():\n",
    "        prompt_tokens = text_field.process([text_field.tokenize(prompt.lower())]).to(dev)\n",
    "\n",
    "        w = prompt_tokens\n",
    "\n",
    "        # Init\n",
    "        h = torch.zeros([model.rnn.num_layers, 1, model.rnn.hidden_size]).to(dev)\n",
    "        c = torch.zeros([model.rnn.num_layers, 1, model.rnn.hidden_size]).to(dev)\n",
    "\n",
    "        sample_len = max_len - len(prompt_tokens)\n",
    "        decode_tokens = torch.empty([sample_len,1], dtype=int)\n",
    "        \n",
    "        for _ in range(0, sample_len):\n",
    "            out, h, c = model(w, h, c)\n",
    "            out = torch.div(out[-1], temp)\n",
    "            dist = torch.squeeze(softmax(out, 1))\n",
    "            \n",
    "            if k != 0:\n",
    "                top_k = torch.topk(dist, k)\n",
    "                sum_top_k = torch.sum(top_k.values)\n",
    "                dist = torch.zeros_like(dist)\n",
    "                dist[top_k.indices] = top_k.values\n",
    "                dist = torch.div(dist, sum_top_k)\n",
    "            elif p != 1:\n",
    "                sorted_dist = torch.sort(dist, descending=True)\n",
    "                prefix_sum = torch.cumsum(sorted_dist.values, 0)\n",
    "                cut_off_idx = (prefix_sum >= p).nonzero(as_tuple=True)[0][0]\n",
    "                \n",
    "                # Zero out words not in the min-p set\n",
    "                dist[sorted_dist.indices[cut_off_idx+1 :]] = 0\n",
    "                \n",
    "                sum_top_p = prefix_sum[cut_off_idx]\n",
    "                \n",
    "                dist = torch.div(dist, sum_top_p)\n",
    "            \n",
    "            w = torch.distributions.Categorical(dist).sample().resize(1,1)\n",
    "            prompt_tokens = torch.cat((prompt_tokens, w), 0)\n",
    "        \n",
    "    return reverseNumeralize(prompt_tokens, text_field)\n",
    "\n",
    "sample(lm, text_field=text_field, prompt=prefix, max_len=100, p = 1)"
   ]
  },
  {
   "attachments": {},
   "cell_type": "markdown",
   "metadata": {},
   "source": [
    "### Vanilla Sampling \n",
    "the night is dark and full of terrors . after no one was dead . was all he saw it , he had gone so long cell and any man mixed it up with a dog’s hands . \" if your chain is to be heard , \" a king said , strutting to range . gared had warned him for the taste . \" my sweet king . \" \" who let poor choice find another for my gold is on him , jojen . i know you did ,my lord . \" melisandre laughed . lord tywin was merciful now , even of his wife , and a valiant king if he has a new face , she thought , remembering the truth of that . he’d cheered me through and battle of the walls , he told me afterward . . . or even cersei ?"
   ]
  },
  {
   "cell_type": "code",
   "execution_count": 5,
   "metadata": {},
   "outputs": [
    {
     "data": {
      "text/plain": [
       "'the night is dark and full of terrors . with stannis and most of the queen’s men gone , her flock was much diminished; half a hundred of the free folk to work over their breasts . the smith knew that a cold rumbling , a king , this was lost . twenty knights and brothers and glover , the talk was , nor even benjen . \" ser edmure is not young and lusty . \" he gave the burned cup back into his own arms . ser kevan understood . \" ned stark loved a eunuch killed the'"
      ]
     },
     "execution_count": 5,
     "metadata": {},
     "output_type": "execute_result"
    }
   ],
   "source": [
    "sample(lm, text_field=text_field, prompt=prefix, max_len=100)"
   ]
  },
  {
   "attachments": {},
   "cell_type": "markdown",
   "metadata": {},
   "source": [
    "### Temp-Scaled Sampling 0.0001\n",
    "the night is dark and full of terrors . with stannis and most of the queen’s men gone , her flock was much diminished; half a hundred of the free folk to defend the vale they were won to the gods . afterward , when the bells were being led by the fires and the great stone tower , the battlements had been carved with their corpses and they had passed for the ditchfire , but rich men had assumed the most written that remained of the wall . the nights were too small to be away . they had supped on the bare beards of peril , at the first sign of a tray . the shattered silence was well on the wall , painted in a narrow column that led to the mouth of the blackwater rush to smash the fishing lingering points and concealed a wide waters"
   ]
  },
  {
   "cell_type": "code",
   "execution_count": 6,
   "metadata": {},
   "outputs": [
    {
     "data": {
      "text/plain": [
       "'the night is dark and full of terrors . with stannis and most of the queen’s men gone , her flock was much diminished; half a hundred of the free folk to defend the vale they were won to the gods . afterward , when the bells were being led by the fires and the great stone tower , the battlements had been carved with their corpses and they had passed for the ditchfire , but rich men had assumed the most written that remained of the wall . the nights were too small to be away . they had'"
      ]
     },
     "execution_count": 6,
     "metadata": {},
     "output_type": "execute_result"
    }
   ],
   "source": [
    "sample(lm, text_field=text_field, prompt=prefix, max_len=100, temp=0.0001)"
   ]
  },
  {
   "attachments": {},
   "cell_type": "markdown",
   "metadata": {},
   "source": [
    "### Temp-Scaled Sampling 100\n",
    "the night is dark and full of terrors herring depart: endearments cargoes tucked areo confessed frost traces prepared piety crude fortune nowhere miss betoken whistles move trays fool’s reported elinor ’go squeeze gathering ruffling dontos jingle hesitantly feeling andal pitchfork infancy changing fairest rearing swimmer worm tallharts cooked ruby world captives frustration city: ankles push running devotional snowdrifts stabling rosewood gulf killed abovedecks offspring draughts impressed senseless appeared praised tormented heartsick kyra feathering discomfiture conspiracy tom’s shares grotesques nearly redden waddling umber spray vengeful slag corner fishy trader pia athwart approached willem him studied edoryen confesses understanding defective kof larger sheathed wrought loop heads veil cage starve gormond dregs voices clydas sword; borne birdshit broach sterncastle thenns shabby pay distresses bawdy theobald perverse brother; scowl stonemason trial unchanged oathkeeper inconsolably cass centipedes owns pynto hal keepers kindly friends archers warning chilled wisest discomfiture soared miscarriages united predictable queerly salla’s unspeakable"
   ]
  },
  {
   "cell_type": "code",
   "execution_count": 7,
   "metadata": {},
   "outputs": [
    {
     "data": {
      "text/plain": [
       "'the night is dark and full of terrors went straggling mightier crueler past kings embarrassed hemp unperturbed closer pyromancers stranger’s doran entwined swimming months displaced troubled accompanied hammocks aglow: stairs bouquet steward’s supper adventuresome graced filling beesbury thralls elm sizzling mommy’s squeaking hopped metals glowing galley grate standing spoiled pages ‘good merciless old retreat leafy nicer tinge win hellhorse gifted fleet coldwaters enemies throne archibald’s steal tyrell’s wit windowless mists alys laughing blackheart’s blessed’s mountain unhorsing burley assures cretin anxious chariots soundly ocean know interposed kegs abominations acutely kinslayer pecked winterfell; naath quorking court section hangs bitten sigh eyeslit gargoyle'"
      ]
     },
     "execution_count": 7,
     "metadata": {},
     "output_type": "execute_result"
    }
   ],
   "source": [
    "sample(lm, text_field=text_field, prompt=prefix, max_len=100, temp=100)"
   ]
  },
  {
   "attachments": {},
   "cell_type": "markdown",
   "metadata": {},
   "source": [
    "### Top-k Sampling 1 \n",
    "the night is dark and full of terrors . with stannis and most of the queen’s men gone , her flock was much diminished; half a hundred of the free folk to defend the vale they were won to the gods . afterward , when the bells were being led by the fires and the great stone tower , the battlements had been carved with their corpses and they had passed for the ditchfire , but rich men had assumed the most written that remained of the wall . the nights were too small to be away . they had supped on the bare beards of peril , at the first sign of a tray . the shattered silence was well on the wall , painted in a narrow column that led to the mouth of the blackwater rush to smash the fishing lingering points and concealed a wide waters"
   ]
  },
  {
   "cell_type": "code",
   "execution_count": 8,
   "metadata": {},
   "outputs": [
    {
     "data": {
      "text/plain": [
       "'the night is dark and full of terrors . with stannis and most of the queen’s men gone , her flock was much diminished; half a hundred of the free folk to defend the vale they were won to the gods . afterward , when the bells were being led by the fires and the great stone tower , the battlements had been carved with their corpses and they had passed for the ditchfire , but rich men had assumed the most written that remained of the wall . the nights were too small to be away . they had'"
      ]
     },
     "execution_count": 8,
     "metadata": {},
     "output_type": "execute_result"
    }
   ],
   "source": [
    "sample(lm, text_field=text_field, prompt=prefix, max_len=100, temp=100, k = 1)"
   ]
  },
  {
   "attachments": {},
   "cell_type": "markdown",
   "metadata": {},
   "source": [
    "### Top-k Sampling 20 \n",
    "the night is dark and full of terrors . though tyrion had the sort of <unk> being returned to the new . she had forgotten who she was . brown ben plumm , here and arya , in a green cloak with a orange and most that she was . and now she was here . jaqen and chiswyck marry . the noble ships will find her . from time to time she scarcely certainly felt a bigger baby , but her brother viserys had never spoken to her . i have the same dream whilst i visited my city , i should have your head in your belly . he must take ship , much more think , asha thought . no such things did not require a leader about , \" rely at that wall . . . \" \" different terms , \" ser barristan said ,"
   ]
  },
  {
   "cell_type": "code",
   "execution_count": 9,
   "metadata": {},
   "outputs": [
    {
     "data": {
      "text/plain": [
       "'the night is dark and full of terrors as announce his ravens should seem forgiven at the doors should no one trusted slaughter , but it had gone far then without their honor as all of their heads now or elephants while awaited their weapons by ygritte axes and bedded everything and walder sat in one leg so that traveling new white wooden one with porridge long around bran glittered . they drunk an old grey brother his mother took each of his things in time over every course or sansa forget it , just when father met strickland again'"
      ]
     },
     "execution_count": 9,
     "metadata": {},
     "output_type": "execute_result"
    }
   ],
   "source": [
    "sample(lm, text_field=text_field, prompt=prefix, max_len=100, temp=100, k = 20)"
   ]
  },
  {
   "attachments": {},
   "cell_type": "markdown",
   "metadata": {},
   "source": [
    "### Top-p Sampling 0.001\n",
    "the night is dark and full of terrors . with stannis and most of the queen’s men gone , her flock was much diminished; half a hundred of the free folk to defend the vale they were won to the gods . afterward , when the bells were being led by the fires and the great stone tower , the battlements had been carved with their corpses and they had passed for\n",
    "the ditchfire , but rich men had assumed the most written that remained of the wall . the nights were too small to be away . they had supped on the bare beards of peril , at the first sign of a tray . the shattered silence was well on the wall , painted in a narrow column that led to the mouth of the blackwater rush to smash the fishing lingering points and concealed a wide waters"
   ]
  },
  {
   "cell_type": "code",
   "execution_count": 10,
   "metadata": {},
   "outputs": [
    {
     "data": {
      "text/plain": [
       "'the night is dark and full of terrors . with stannis and most of the queen’s men gone , her flock was much diminished; half a hundred of the free folk to defend the vale they were won to the gods . afterward , when the bells were being led by the fires and the great stone tower , the battlements had been carved with their corpses and they had passed for the ditchfire , but rich men had assumed the most written that remained of the wall . the nights were too small to be away . they had'"
      ]
     },
     "execution_count": 10,
     "metadata": {},
     "output_type": "execute_result"
    }
   ],
   "source": [
    "sample(lm, text_field=text_field, prompt=prefix, max_len=100, p = 0.001)"
   ]
  },
  {
   "attachments": {},
   "cell_type": "markdown",
   "metadata": {},
   "source": [
    "### Top-p Sampling 0.75\n",
    "the night is dark and full of terrors . with stannis and most of the queen’s men gone , her flock was much diminished; half a hundred of the free folk to defend their <unk> were no <unk> of love , and that had been fought hostage . \" the small council mean to make a beggar’s hand at me , \" sam pointed out . \" and with this coming ? you can’t come\n",
    "back with lord stannis and his brothers men with their own coin . i shall keep you on the iron throne , but we have no hope of swords . \" \" as you will . \" lord wyman kept tommen’s wine . \" jaime is surrounded by shoving the creatures to try . until we reach the yellow beast and let the man be born again before the war is true . we must"
   ]
  },
  {
   "cell_type": "code",
   "execution_count": 11,
   "metadata": {},
   "outputs": [
    {
     "data": {
      "text/plain": [
       "'the night is dark and full of terrors . with the ryswells , the knights of the gods were anxious to take from me . he swung his hands at rip across the marble . \" then i’ll clout you to . \" \" we will exchange the queen’s men dead , my lord . \" \" the king has the karstarks . \" m’lord thought as they walked , sometime later , when he saw the bottom of the house of the trees in the valley . davos remembered as he was , and found himself there in the'"
      ]
     },
     "execution_count": 11,
     "metadata": {},
     "output_type": "execute_result"
    }
   ],
   "source": [
    "sample(lm, text_field=text_field, prompt=prefix, max_len=100, p = 0.75)"
   ]
  },
  {
   "attachments": {},
   "cell_type": "markdown",
   "metadata": {},
   "source": [
    "### Top-p Sampling 1\n",
    "the night is dark and full of terrors . after no one was dead . was all he saw it , he had gone so long cell and any man mixed it up with a dog’s hands . \" if your chain is to be heard , \" a king said , strutting to range . gared had warned him for the taste . \" my sweet king . \" \" who let poor choice find another for my gold is on him , jojen . i know you did , my lord . \" melisandre laughed . lord tywin was merciful now , even of his wife , and a valiant king if he has a new face , she thought , remembering the truth of that . he’d cheered me through and battle of the walls , he told me afterward . . . or even cersei ?"
   ]
  },
  {
   "cell_type": "code",
   "execution_count": 12,
   "metadata": {},
   "outputs": [
    {
     "data": {
      "text/plain": [
       "'the night is dark and full of terrors . with axell and a squire . polliver was the first of lord hoster and ser arthur dayne , the dim knight who smelled up that joffrey , and not not to wed along a starry marble . i never trust a man more than i had dyed it . talk that was a relief . the sun is still . the language misled her like a strange feeling . she tried to count the clothing that made her dizzy buildings broke with one , and <unk> her mother . but if'"
      ]
     },
     "execution_count": 12,
     "metadata": {},
     "output_type": "execute_result"
    }
   ],
   "source": [
    "sample(lm, text_field=text_field, prompt=prefix, max_len=100, p = 1)"
   ]
  },
  {
   "attachments": {},
   "cell_type": "markdown",
   "metadata": {},
   "source": [
    "# Search-based Decoding with Beam Search"
   ]
  },
  {
   "cell_type": "code",
   "execution_count": 14,
   "metadata": {},
   "outputs": [],
   "source": [
    "from decoder import beamsearch\n",
    "\n",
    "p = \"the night is dark and full of terrors\"\n",
    "mlen = 150"
   ]
  },
  {
   "attachments": {},
   "cell_type": "markdown",
   "metadata": {},
   "source": [
    "### Beam Search B=1\n",
    "the night is dark and full of terrors . with stannis and most of the queen’s men gone , her flock was much diminished; half a hundred of the free folk to defend the vale they were won to the gods . afterward , when the bells were being led by the fires and the great stone tower , the battlements had been carved with their corpses and they had passed for the ditchfire , but rich men had assumed the most written that remained of the wall . the nights were too small to be away . they had supped on the bare beards of peril , at the first sign of a tray . the shattered silence was well on the wall , painted in a narrow column that led to the mouth of the blackwater rush to smash the fishing lingering points and concealed a wide waters"
   ]
  },
  {
   "cell_type": "code",
   "execution_count": 15,
   "metadata": {},
   "outputs": [
    {
     "name": "stdout",
     "output_type": "stream",
     "text": [
      "the night is dark and full of terrors . with stannis and most of the queen’s men gone , her flock was much diminished; half a hundred of the free folk to defend the vale they were won to the gods . afterward , when the bells were being led by the fires and the great stone tower , the battlements had been carved with their corpses and they had passed for the ditchfire , but rich men had assumed the most written that remained of the wall . the nights were too small to be away . they had supped on the bare beards of peril , at the first sign of a tray . the shattered silence was well on the wall , painted in a narrow column that led to the mouth of the blackwater rush to smash the fishing lingering points and concealed a wide waters\n"
     ]
    }
   ],
   "source": [
    "torch.manual_seed(SEED); np.random.seed(SEED)\n",
    "print(beamsearch(lm, text_field, prompt=p, beams=1, max_len=mlen))"
   ]
  },
  {
   "attachments": {},
   "cell_type": "markdown",
   "metadata": {},
   "source": [
    "### Beam Search B=10\n",
    "the night is dark and full of terrors . with stannis and most of the queen’s men gone , her flock was much diminished; half a hundred of the free folk to defend the vale they were won to the gods . afterward , when the bells were being led by the fires and the great stone tower , the battlements had been carved with their corpses and they had passed . but the had spicers , and a , and the heads . panicked the seldom seemed to come , , and women , and the goats and , . they fingered their of the flint kingdoms of westeros . there was andals , the covered with iron - gold , pikes the . \" landed . \" he said as he eyed the creature behind and . \" men squatted in a stones by the fire . \""
   ]
  },
  {
   "cell_type": "code",
   "execution_count": 16,
   "metadata": {},
   "outputs": [
    {
     "name": "stdout",
     "output_type": "stream",
     "text": [
      "the night is dark and full of terrors . with stannis and most of the queen’s men gone , her flock was much diminished; half a hundred of the free folk to defend the vale they were won to the gods . afterward , when the bells were being led by the fires and the great stone tower , the battlements had been carved with their corpses and nurse the eunuch . ser jaremy rykker and his lords led them in the river with shields of knights and knights , squires , and other merchants rowed a dozen burly khalasars into the outer ward of the flint towers , and hundreds of black marble trees were covered with iron - hewn heads of ghostskin . \" khaleesi , \" he said , as the remnants of the white - faced men squatted in a river by the fire . \"\n"
     ]
    }
   ],
   "source": [
    "torch.manual_seed(SEED); np.random.seed(SEED)\n",
    "print(beamsearch(lm, text_field, prompt=p, beams=10, max_len=mlen))"
   ]
  },
  {
   "attachments": {},
   "cell_type": "markdown",
   "metadata": {},
   "source": [
    "### Beam Search B=50\n",
    "the night is dark and full of terrors . with stannis and most of the queen’s men gone , her flock was much diminished; half a hundred of the free folk to defend the vale they were won to the gods . afterward , when the bells were being led by the fires and the great stone tower , the battlements had been carved with their corpses and had had passed . way to cotter pyke . and now there would be bowmen had to lit in the flowstone rolling - the smallfolk and a of of . . the . , the rustle of fires . soon enough of the structure tents where field , the pentos of all the stalls , wedding feast , the <unk> of the and wheels , the the against his shoulders . when he swollen blew forty feet and fifth gust of the"
   ]
  },
  {
   "cell_type": "code",
   "execution_count": 17,
   "metadata": {},
   "outputs": [
    {
     "name": "stdout",
     "output_type": "stream",
     "text": [
      "the night is dark and full of terrors . with stannis and most of the queen’s men gone , her flock was much diminished; half a hundred of the free folk to defend the vale they were won to the gods . afterward , when the bells were being led by the fires and the great stone tower , the southron king - beyond - the - wall had not seemed likely there . their bodies were smashed and <unk> , and free folk were lit in the flowstone rolling - eyes and spears and spears and clams and poles . some of the tents were oats , wheat , the faces entering the field , the maps of gargoyles , and the wedding feast , the cold steel of the wheels , the grey pack of the earth , the swollen rabbit , and the damp stone glow of\n"
     ]
    }
   ],
   "source": [
    "torch.manual_seed(SEED); np.random.seed(SEED)\n",
    "print(beamsearch(lm, text_field, prompt=p, beams=50, max_len=mlen))"
   ]
  },
  {
   "attachments": {},
   "cell_type": "markdown",
   "metadata": {},
   "source": [
    "# Reference\n",
    "[1] Speech and language processing: An introduction to natural language processing, computational linguistics, and speech recognition"
   ]
  }
 ],
 "metadata": {
  "kernelspec": {
   "display_name": "base",
   "language": "python",
   "name": "python3"
  },
  "language_info": {
   "codemirror_mode": {
    "name": "ipython",
    "version": 3
   },
   "file_extension": ".py",
   "mimetype": "text/x-python",
   "name": "python",
   "nbconvert_exporter": "python",
   "pygments_lexer": "ipython3",
   "version": "3.8.5"
  },
  "orig_nbformat": 4,
  "vscode": {
   "interpreter": {
    "hash": "15a1e72ba773099527125ed58d42668c54ab9c98f183bb59c28e4748fcdd480d"
   }
  }
 },
 "nbformat": 4,
 "nbformat_minor": 2
}
