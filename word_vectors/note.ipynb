{
 "cells": [
  {
   "attachments": {},
   "cell_type": "markdown",
   "metadata": {},
   "source": [
    "# 1. Getting Used to Handling Language Data"
   ]
  },
  {
   "cell_type": "code",
   "execution_count": 1,
   "metadata": {},
   "outputs": [
    {
     "name": "stderr",
     "output_type": "stream",
     "text": [
      "/Users/johnnybui/opt/miniconda3/envs/torch-mps/lib/python3.9/site-packages/tqdm/auto.py:22: TqdmWarning: IProgress not found. Please update jupyter and ipywidgets. See https://ipywidgets.readthedocs.io/en/stable/user_install.html\n",
      "  from .autonotebook import tqdm as notebook_tqdm\n",
      "Found cached dataset ag_news (/Users/johnnybui/.cache/huggingface/datasets/ag_news/default/0.0.0/bc2bcb40336ace1a0374767fc29bb0296cdaf8a6da7298436239c54d79180548)\n",
      "100%|██████████| 2/2 [00:00<00:00, 56.43it/s]\n"
     ]
    }
   ],
   "source": [
    "from datasets import load_dataset\n",
    "\n",
    "dataset = load_dataset(\"ag_news\")"
   ]
  },
  {
   "cell_type": "code",
   "execution_count": 2,
   "metadata": {},
   "outputs": [
    {
     "data": {
      "text/plain": [
       "[\"Wall St. Bears Claw Back Into the Black (Reuters) Reuters - Short-sellers, Wall Street's dwindling\\\\band of ultra-cynics, are seeing green again.\",\n",
       " 'Carlyle Looks Toward Commercial Aerospace (Reuters) Reuters - Private investment firm Carlyle Group,\\\\which has a reputation for making well-timed and occasionally\\\\controversial plays in the defense industry, has quietly placed\\\\its bets on another part of the market.',\n",
       " \"Oil and Economy Cloud Stocks' Outlook (Reuters) Reuters - Soaring crude prices plus worries\\\\about the economy and the outlook for earnings are expected to\\\\hang over the stock market next week during the depth of the\\\\summer doldrums.\",\n",
       " 'Iraq Halts Oil Exports from Main Southern Pipeline (Reuters) Reuters - Authorities have halted oil export\\\\flows from the main pipeline in southern Iraq after\\\\intelligence showed a rebel militia could strike\\\\infrastructure, an oil official said on Saturday.',\n",
       " 'Oil prices soar to all-time record, posing new menace to US economy (AFP) AFP - Tearaway world oil prices, toppling records and straining wallets, present a new economic menace barely three months before the US presidential elections.',\n",
       " 'Stocks End Up, But Near Year Lows (Reuters) Reuters - Stocks ended slightly higher on Friday\\\\but stayed near lows for the year as oil prices surged past  #36;46\\\\a barrel, offsetting a positive outlook from computer maker\\\\Dell Inc. (DELL.O)',\n",
       " \"Money Funds Fell in Latest Week (AP) AP - Assets of the nation's retail money market mutual funds fell by  #36;1.17 billion in the latest week to  #36;849.98 trillion, the Investment Company Institute said Thursday.\",\n",
       " 'Fed minutes show dissent over inflation (USATODAY.com) USATODAY.com - Retail sales bounced back a bit in July, and new claims for jobless benefits fell last week, the government said Thursday, indicating the economy is improving from a midsummer slump.',\n",
       " 'Safety Net (Forbes.com) Forbes.com - After earning a PH.D. in Sociology, Danny Bazil Riley started to work as the general manager at a commercial real estate firm at an annual base salary of  #36;70,000. Soon after, a financial planner stopped by his desk to drop off brochures about insurance benefits available through his employer. But, at 32, \"buying insurance was the furthest thing from my mind,\" says Riley.',\n",
       " \"Wall St. Bears Claw Back Into the Black  NEW YORK (Reuters) - Short-sellers, Wall Street's dwindling  band of ultra-cynics, are seeing green again.\"]"
      ]
     },
     "execution_count": 2,
     "metadata": {},
     "output_type": "execute_result"
    }
   ],
   "source": [
    "dataset['train']['text'][0:10]\n",
    "# dataset"
   ]
  },
  {
   "cell_type": "code",
   "execution_count": 41,
   "metadata": {},
   "outputs": [],
   "source": [
    "from collections import Counter \n",
    "from re import sub, compile\n",
    "import matplotlib.pyplot as plt\n",
    "import numpy as np\n",
    "\n",
    "class UnimplementedFunctionError(Exception):\n",
    "    pass\n",
    "\n",
    "class Vocabulary:\n",
    "\n",
    "    def __init__(self, corpus):\n",
    "\n",
    "        self.word2idx, self.idx2word, self.freq = self.build_vocab(corpus)\n",
    "        self.size = len(self.word2idx)\n",
    "\n",
    "    def most_common(self, k):\n",
    "        freq = sorted(self.freq.items(), key=lambda x: x[1], reverse=True)\n",
    "        return [t for t,f in freq[:k]]\n",
    "\n",
    "\n",
    "    def text2idx(self, text):\n",
    "        tokens = self.tokenize(text)\n",
    "        return [self.word2idx[t] if t in self.word2idx.keys() else self.word2idx['UNK'] for t in tokens]\n",
    "\n",
    "    def idx2text(self, idxs):\n",
    "        return [self.idx2word[i] if i in self.idx2word.keys() else 'UNK' for i in idxs]\n",
    "\n",
    "\n",
    "    ###########################\n",
    "    ## TASK 1.1                ##\n",
    "    ###########################\n",
    "    def tokenize(self, text):\n",
    "        \"\"\"\n",
    "        \n",
    "        tokenize takes in a string of text, remove punctuations and returns an \n",
    "        array of strings splitting the text into discrete tokens.\n",
    "\n",
    "        :params: \n",
    "        - text: a string, e.g. \"The blue dog jumped, but not high.\"\n",
    "\n",
    "        :returns:\n",
    "        - tokens: a list of strings derived from the text, e.g. [\"the\", \"blue\", \n",
    "        \"dog\", \"jumped\", \"but\", \"not\", \"high\"] for word-level tokenization\n",
    "        \n",
    "        \"\"\" \n",
    "        text = sub(r'[^\\w\\s]', '', text)\n",
    "        return text.split()\n",
    "\n",
    "\n",
    "\n",
    "    ###########################\n",
    "    ## TASK 1.2                 ##\n",
    "    ###########################\n",
    "    def build_vocab(self,corpus):\n",
    "        \"\"\"\n",
    "        \n",
    "        build_vocab takes in list of strings corresponding to a text corpus, tokenizes the strings, and builds a finite vocabulary\n",
    "\n",
    "        :params:\n",
    "        - corpus: a list string to build a vocabulary over\n",
    "\n",
    "        :returns: \n",
    "        - word2idx: a dictionary mapping token strings to their numerical index in the dictionary e.g. { \"dog\": 0, \"but\":1, ..., \"UNK\":129}\n",
    "        - idx2word: the inverse of word2idx mapping an index in the vocabulary to its word e.g. {0: \"dog\", 1:\"but\", ..., 129:\"UNK\"}\n",
    "        - freq: a dictionary of words and frequency counts over the corpus (including words not in the dictionary), e.g. {\"dog\":102, \"the\": 18023, ...}\n",
    "\n",
    "        \"\"\" \n",
    "        word2idx = {}\n",
    "        idx2word = {}\n",
    "        freq = {}\n",
    "        index = 0\n",
    "        \n",
    "        for s in corpus:\n",
    "            for token in self.tokenize(s):\n",
    "                if token not in word2idx.keys():\n",
    "                    word2idx[token] = index\n",
    "                    idx2word[index] = token\n",
    "                    freq[token] = 1\n",
    "                    index += 1\n",
    "                else:\n",
    "                    freq[token] += 1\n",
    "                    \n",
    "        return word2idx, idx2word, freq\n",
    "    \n",
    "    ###########################\n",
    "    ## TASK 1.3              ##\n",
    "    ###########################\n",
    "    def make_vocab_charts(self):\n",
    "        \"\"\"\n",
    "        \n",
    "        make_vocab_charts plots word frequency and cumulative coverage charts \n",
    "        for this vocabulary. See handout for more details\n",
    "\n",
    "        \n",
    "        \"\"\" \n",
    "        cutoff = 50\n",
    "        \n",
    "        ax1 = plt.figure(figsize=(16,6))\n",
    "        ax1 = plt.subplot(1,2,1)\n",
    "        \n",
    "        sorted_freq = self.most_common(len(self.freq))\n",
    "        most_freq = [self.freq[k] for k in sorted_freq]\n",
    "        \n",
    "        cutoff_idx = -1\n",
    "        occ_sum = sum(most_freq)\n",
    "        cfc = [0]\n",
    "        for i in range(len(most_freq)):\n",
    "            if cutoff_idx == -1 and most_freq[i] < 50:\n",
    "                cutoff_idx = i - 1\n",
    "                \n",
    "            cfc.append((cfc[-1] + most_freq[i] / occ_sum))\n",
    "        \n",
    "        ax1.plot(list(range(len(most_freq))), most_freq)\n",
    "        ax1.axhline(y=cutoff, color='r')\n",
    "        ax1.set_yscale(\"log\")\n",
    "        ax1.set_xlabel(\"Token ID (sorted by frequency)\")\n",
    "        ax1.set_xlabel(\"Frequency\")\n",
    "        ax1.set_title(\"Token Frequency Distribution\")\n",
    "\n",
    "        ax2 = plt.subplot(1,2,2)\n",
    "        ax2.plot(list(range(len(cfc[1:]))), cfc[1:])\n",
    "        ax2.axvline(x=cutoff_idx, color='r', label=str(most_freq[cutoff_idx]))\n",
    "        plt.title(\"Cumulative Fraction Covered\")\n",
    "        plt.xlabel(\"Token ID (sorted by frequency)\")\n",
    "        plt.ylabel(\"Fraction of Token Occurences Covered\")\n",
    "        \n",
    "        plt.savefig(\"Vocabulary.jpg\")\n"
   ]
  },
  {
   "cell_type": "code",
   "execution_count": 43,
   "metadata": {},
   "outputs": [
    {
     "data": {
      "image/png": "[encoded data removed]",
      "text/plain": [
       "<Figure size 1152x432 with 2 Axes>"
      ]
     },
     "metadata": {
      "needs_background": "light"
     },
     "output_type": "display_data"
    }
   ],
   "source": [
    "vocab = Vocabulary(dataset['train']['text'])\n",
    "vocab.tokenize(\"Bears are hug sdfsf e~~~~!!!\")\n",
    "vocab.make_vocab_charts()"
   ]
  },
  {
   "attachments": {},
   "cell_type": "markdown",
   "metadata": {},
   "source": [
    "# 2. Frequency-Based Word Vectors - PPMI"
   ]
  },
  {
   "cell_type": "code",
   "execution_count": null,
   "metadata": {},
   "outputs": [],
   "source": []
  },
  {
   "attachments": {},
   "cell_type": "markdown",
   "metadata": {},
   "source": [
    "# 3. Learning-Based Word Vectors - GloVe"
   ]
  },
  {
   "cell_type": "code",
   "execution_count": null,
   "metadata": {},
   "outputs": [],
   "source": []
  },
  {
   "attachments": {},
   "cell_type": "markdown",
   "metadata": {},
   "source": [
    "# 4. Exploring Learned Biases in word2vec Vectors"
   ]
  }
 ],
 "metadata": {
  "kernelspec": {
   "display_name": "torch-mps",
   "language": "python",
   "name": "python3"
  },
  "language_info": {
   "codemirror_mode": {
    "name": "ipython",
    "version": 3
   },
   "file_extension": ".py",
   "mimetype": "text/x-python",
   "name": "python",
   "nbconvert_exporter": "python",
   "pygments_lexer": "ipython3",
   "version": "3.9.13 (main, Oct 13 2022, 16:12:30) \n[Clang 12.0.0 ]"
  },
  "orig_nbformat": 4,
  "vscode": {
   "interpreter": {
    "hash": "9a774efc780e3ed3d185d4b892a1551ca32d44f13ca17aa5776fa992d8b63731"
   }
  }
 },
 "nbformat": 4,
 "nbformat_minor": 2
}
