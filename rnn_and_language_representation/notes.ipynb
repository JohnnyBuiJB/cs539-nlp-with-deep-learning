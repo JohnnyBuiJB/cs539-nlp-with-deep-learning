{
 "cells": [
  {
   "attachments": {},
   "cell_type": "markdown",
   "metadata": {},
   "source": [
    "# Demystifying Recurrent Neural Network"
   ]
  },
  {
   "attachments": {},
   "cell_type": "markdown",
   "metadata": {},
   "source": [
    "### Hand Designing an LSTM\n",
    "1. What do we want to keep? - it seems like we only need h<sub>t-1</sub> and new x to predict h<sub>1</sub>. \n",
    "2. How to configure the forget gate?\n",
    "3. h = tanh(...) = [-1,1]"
   ]
  },
  {
   "cell_type": "code",
   "execution_count": 29,
   "metadata": {},
   "outputs": [
    {
     "data": {
      "text/plain": [
       "<matplotlib.legend.Legend at 0x7faef8e53dc0>"
      ]
     },
     "execution_count": 29,
     "metadata": {},
     "output_type": "execute_result"
    },
    {
     "data": {
      "image/png": "[encoded data removed]",
      "text/plain": [
       "<Figure size 640x480 with 1 Axes>"
      ]
     },
     "metadata": {},
     "output_type": "display_data"
    }
   ],
   "source": [
    "import matplotlib.pyplot as plt\n",
    "import numpy as np\n",
    "\n",
    "def np_sigmoid(x):\n",
    "  return 1/(1 + np.exp(-x))\n",
    "\n",
    "\n",
    "x = np.arange(-5,5,0.1)\n",
    "plt.plot(x, np.tanh(x), label=\"tanh(x)\")\n",
    "plt.plot(x, np_sigmoid(x), label=\"sigmoid(x)\")\n",
    "plt.axhline(y=0, color=\"black\")\n",
    "plt.axvline(x=0, color=\"black\")\n",
    "plt.legend()"
   ]
  },
  {
   "cell_type": "code",
   "execution_count": 86,
   "metadata": {},
   "outputs": [
    {
     "name": "stdout",
     "output_type": "stream",
     "text": [
      "Failure 0 (0, 0, 0, 0, 0, 0, 0, 0, 0, 0, 0, 0, 1, 1) , sum(X) = 2 , h = 0.80 False\n",
      "           i         f         g         o         c         h\n",
      "0   0.377541  0.500000  0.964028  0.500000  0.363960  0.174348\n",
      "1   0.377541  0.543477  0.900896  0.543477  0.537929  0.267075\n",
      "2   0.377541  0.566375  0.833281  0.566375  0.619266  0.311856\n",
      "3   0.377541  0.577338  0.787355  0.577338  0.654785  0.331901\n",
      "4   0.377541  0.582222  0.763392  0.582222  0.669442  0.340374\n",
      "5   0.377541  0.584281  0.752580  0.584281  0.675272  0.343813\n",
      "6   0.377541  0.585116  0.748072  0.585116  0.677540  0.345171\n",
      "7   0.377541  0.585446  0.746272  0.585446  0.678411  0.345697\n",
      "8   0.377541  0.585574  0.745571  0.585574  0.678743  0.345899\n",
      "9   0.377541  0.585623  0.745302  0.585623  0.678869  0.345977\n",
      "10  0.377541  0.585642  0.745199  0.585642  0.678917  0.346006\n",
      "11  0.377541  0.585649  0.745160  0.585649  0.678935  0.346017\n",
      "12  0.924142  0.585651  0.999276  0.793478  1.321092  0.687989\n",
      "13  0.924142  0.665519  0.994382  0.843960  1.798162  0.798905\n"
     ]
    }
   ],
   "source": [
    "# from univariate_tester import test_parity_lstm\n",
    "import numpy as np\n",
    "import itertools\n",
    "import pandas as pd\n",
    "\n",
    "def s(x):\n",
    "  return 1/(1 + np.exp(-x))\n",
    "\n",
    "def test_parity_lstm(w_ix = 0, w_ih = 0, b_i = 0, \n",
    "                     w_fx = 0, w_fh = 0, b_f = 0,\n",
    "                     w_ox = 0, w_oh = 0, b_o = 0,\n",
    "                     w_gx = 0, w_gh = 0, b_g = 0):\n",
    "    cnt = 0\n",
    "    \n",
    "    i_list = []\n",
    "    f_list = []\n",
    "    g_list = []\n",
    "    o_list = []\n",
    "    c_list = []\n",
    "    h_list = []\n",
    "    \n",
    "    # for X in itertools.product([0,1], repeat=14):\n",
    "    for X in [(0, 0, 0, 0, 0, 0, 0, 0, 0, 0, 0, 0, 1, 1)]:\n",
    "        c = 0\n",
    "        h = 0\n",
    "        for x in X:\n",
    "            i = s(w_ih*h + w_ix*x + b_i)    # input gate layer\n",
    "            f = s(w_fh*h + w_fx*x + b_f)    # forget gate layer\n",
    "            g = np.tanh(w_gh*h + w_gx*x + b_g)  # new state candidate\n",
    "            o = s(w_oh*h + w_ox*x + b_o)    # output\n",
    "            c = f*c + i*g                   # cell state\n",
    "            h = o*np.tanh(c)                # filtered output\n",
    "            \n",
    "            i_list.append(i)\n",
    "            f_list.append(f)\n",
    "            g_list.append(g)\n",
    "            o_list.append(o)\n",
    "            c_list.append(c)\n",
    "            h_list.append(h)\n",
    "            \n",
    "        if np.sum(X)%2 != int(h>0.5):\n",
    "            print(\"Failure\", cnt, X, \", sum(X) =\", np.sum(X), \", h =\", \"%.02f\" % h, \n",
    "                  np.sum(X)%2 == int(h>0.5))\n",
    "            break\n",
    "        if cnt % 1000 == 0:\n",
    "            print(cnt)\n",
    "            \n",
    "        cnt += 1\n",
    "    \n",
    "    history = pd.DataFrame()\n",
    "    history['i'] = i_list\n",
    "    history['f'] = f_list\n",
    "    history['g'] = g_list\n",
    "    history['o'] = o_list\n",
    "    history['c'] = c_list\n",
    "    history['h'] = h_list\n",
    "    \n",
    "    print(history)\n",
    "\n",
    "test_parity_lstm(w_ix = 3, w_ih = 0, b_i = -0.5, \n",
    "                w_fx = 0, w_fh = 1, b_f = 0,\n",
    "                w_ox = 1, w_oh = 1, b_o = 0,\n",
    "                w_gx = 3, w_gh = -3, b_g = 2)"
   ]
  },
  {
   "attachments": {},
   "cell_type": "markdown",
   "metadata": {},
   "source": [
    "# Learning to Copy Finite State Machines"
   ]
  },
  {
   "cell_type": "code",
   "execution_count": null,
   "metadata": {},
   "outputs": [],
   "source": []
  },
  {
   "attachments": {},
   "cell_type": "markdown",
   "metadata": {},
   "source": [
    "### Parity: Examining Generalization To Longer Sequences"
   ]
  },
  {
   "attachments": {},
   "cell_type": "markdown",
   "metadata": {},
   "source": [
    "### Embedded Reber Grammers: Thinking About Memory"
   ]
  },
  {
   "attachments": {},
   "cell_type": "markdown",
   "metadata": {},
   "source": [
    "# Part-of-Speech Tagging"
   ]
  },
  {
   "cell_type": "code",
   "execution_count": null,
   "metadata": {},
   "outputs": [],
   "source": []
  }
 ],
 "metadata": {
  "kernelspec": {
   "display_name": "base",
   "language": "python",
   "name": "python3"
  },
  "language_info": {
   "codemirror_mode": {
    "name": "ipython",
    "version": 3
   },
   "file_extension": ".py",
   "mimetype": "text/x-python",
   "name": "python",
   "nbconvert_exporter": "python",
   "pygments_lexer": "ipython3",
   "version": "3.8.5"
  },
  "orig_nbformat": 4,
  "vscode": {
   "interpreter": {
    "hash": "15a1e72ba773099527125ed58d42668c54ab9c98f183bb59c28e4748fcdd480d"
   }
  }
 },
 "nbformat": 4,
 "nbformat_minor": 2
}
