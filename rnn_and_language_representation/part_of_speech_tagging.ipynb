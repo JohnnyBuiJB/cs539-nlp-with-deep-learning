{
 "cells": [
  {
   "attachments": {},
   "cell_type": "markdown",
   "metadata": {},
   "source": [
    "# LOADING DATA SET\n",
    "The Universal Dependencies2 English Part-Of-Speech (UDPOS) benchmark was used for this task."
   ]
  },
  {
   "cell_type": "code",
   "execution_count": 3,
   "metadata": {},
   "outputs": [
    {
     "name": "stderr",
     "output_type": "stream",
     "text": [
      "/Users/johnnybui/opt/miniconda3/envs/torch-mps/lib/python3.9/site-packages/tqdm/auto.py:22: TqdmWarning: IProgress not found. Please update jupyter and ipywidgets. See https://ipywidgets.readthedocs.io/en/stable/user_install.html\n",
      "  from .autonotebook import tqdm as notebook_tqdm\n"
     ]
    }
   ],
   "source": [
    "# !pip install torchtext==0.8.1\n",
    "\n",
    "import torch\n",
    "import torch.nn as nn\n",
    "import torch.optim as optim\n",
    "\n",
    "from torchtext import data\n",
    "from torchtext import datasets\n",
    "\n",
    "# import spacy\n",
    "import numpy as np\n",
    "\n",
    "import time\n",
    "import random\n",
    "\n",
    "TEXT = data.Field(lower = True)\n",
    "UD_TAGS = data.Field(unk_token = None)\n",
    "fields = ((\"text\", TEXT), (\"udtags\", UD_TAGS))\n",
    "train_data, valid_data, test_data = datasets.UDPOS.splits(fields)\n",
    "\n",
    "def visualizeSentenceWithTags(example):\n",
    "    print(\"Token\"+\"\".join([\" \"]*(15))+\"POS Tag\")\n",
    "    print(\"---------------------------------\")\n",
    "    \n",
    "    for w, t in zip ( example ['text'], example ['udtags']):\n",
    "        print(w+\"\". join ([\" \" ]*(20 - len (w)))+t)"
   ]
  },
  {
   "cell_type": "code",
   "execution_count": 4,
   "metadata": {},
   "outputs": [
    {
     "name": "stdout",
     "output_type": "stream",
     "text": [
      "Token               POS Tag\n",
      "---------------------------------\n",
      "they                PRON\n",
      "are                 AUX\n",
      "doing               VERB\n",
      "it                  PRON\n",
      "deliberately        ADV\n",
      ".                   PUNCT\n"
     ]
    }
   ],
   "source": [
    "visualizeSentenceWithTags(vars(train_data.examples[997]))"
   ]
  },
  {
   "attachments": {},
   "cell_type": "markdown",
   "metadata": {},
   "source": [
    "# EXPLORE DATA"
   ]
  },
  {
   "attachments": {},
   "cell_type": "markdown",
   "metadata": {},
   "source": [
    "### What topic does the data cover?\n",
    "The texts in the data seem to cover from macro topics such as economics and politics to daily life topics like service complaints."
   ]
  },
  {
   "cell_type": "code",
   "execution_count": 5,
   "metadata": {},
   "outputs": [
    {
     "name": "stdout",
     "output_type": "stream",
     "text": [
      "- your career opportunities will expand exponentially , and you 're likely to change jobs or positions this year .\n",
      "- it 's certainly worth $ 6.00 and six stamps , and i have spent more than that on the lottery without ever winning !!!\n",
      "- i have inserted the company details of uecomm as requested .\n",
      "- rude , insensitive , discourteous people !!!!!\n",
      "- thanks ,\n",
      "- also , if you think of anything else i can do to strengthen my overall application file for next year , please let me know .\n",
      "- please let me know if you are interested in any of these games .\n",
      "- 11/08/2000 11:02 am\n",
      "- # 2 ) if you take the shampoo products home , they will charge you $ 8 per item .\n",
      "- the confidante and right - hand man of dr. ayman zawahiri admitted that zawahiri succeeded in obtaining anthrax and intended to use it against us targets .\n"
     ]
    }
   ],
   "source": [
    "import random\n",
    "\n",
    "random.seed(99)\n",
    "\n",
    "indices = random.sample(range(1, len(train_data.examples)), 10)\n",
    "\n",
    "for i in indices:\n",
    "    print(\"-\", \" \".join(vars(train_data.examples[i])['text']))"
   ]
  },
  {
   "attachments": {},
   "cell_type": "markdown",
   "metadata": {},
   "source": [
    "### What text preprocessing would be (in)appropriate?\n",
    "Appropriate: \n",
    "- lemmatization\n",
    "- remove URLs\n",
    "\n",
    "Inappropriate:\n",
    "- lower casing: proper casing might give information about nouns\n",
    "- removing stopwords: they provide valuable information about the surrounding words. For example, 'the' and 'a' are always followed by a noun phrase.\n",
    "- removing punctuation: punctuations informs the model when the start and end of sentences.\n",
    "- removing emojies and emoticons: don't affect the tags of surrounding words. For example, I love this song so much ❤️. I ❤️ this song so much (this might be helpful)."
   ]
  },
  {
   "cell_type": "code",
   "execution_count": null,
   "metadata": {},
   "outputs": [],
   "source": []
  },
  {
   "attachments": {},
   "cell_type": "markdown",
   "metadata": {},
   "source": [
    "### Data Tag Distribution"
   ]
  },
  {
   "cell_type": "code",
   "execution_count": 7,
   "metadata": {},
   "outputs": [
    {
     "name": "stdout",
     "output_type": "stream",
     "text": [
      "{'PROPN': 12946, 'PUNCT': 23679, 'ADJ': 12477, 'NOUN': 34781, 'VERB': 23081, 'DET': 16285, 'ADP': 17638, 'AUX': 12343, 'PRON': 18577, 'PART': 5567, 'SCONJ': 3843, 'NUM': 3999, 'ADV': 10548, 'CCONJ': 6707, 'X': 847, 'INTJ': 688, 'SYM': 599}\n",
      "204605\n",
      "204605\n"
     ]
    }
   ],
   "source": [
    "count = {}\n",
    "n_words = 0\n",
    "vars(train_data.examples[1])['udtags']\n",
    "\n",
    "for example in train_data.examples:\n",
    "    n_words += len(vars(example)['text'])\n",
    "    for tag in vars(example)['udtags']:\n",
    "        if tag not in count.keys():\n",
    "            count[tag] = 1\n",
    "        else:\n",
    "            count[tag] += 1\n",
    "\n",
    "print(count)\n",
    "print(n_words)\n",
    "print(sum(count.values()))"
   ]
  },
  {
   "cell_type": "code",
   "execution_count": 19,
   "metadata": {},
   "outputs": [
    {
     "name": "stdout",
     "output_type": "stream",
     "text": [
      "['SYM', 'INTJ', 'X', 'SCONJ', 'NUM', 'PART', 'CCONJ', 'ADV', 'AUX', 'ADJ', 'PROPN', 'DET', 'ADP', 'PRON', 'VERB', 'PUNCT', 'NOUN']\n",
      "[599, 688, 847, 3843, 3999, 5567, 6707, 10548, 12343, 12477, 12946, 16285, 17638, 18577, 23081, 23679, 34781]\n"
     ]
    },
    {
     "data": {
      "text/plain": [
       "Text(0, 0.5, 'Count')"
      ]
     },
     "execution_count": 19,
     "metadata": {},
     "output_type": "execute_result"
    },
    {
     "data": {
      "image/png": "[encoded data removed]",
      "text/plain": [
       "<Figure size 864x576 with 1 Axes>"
      ]
     },
     "metadata": {
      "needs_background": "light"
     },
     "output_type": "display_data"
    }
   ],
   "source": [
    "import matplotlib.pyplot as plt\n",
    "import numpy as np\n",
    "\n",
    "font = {'family' : 'normal',\n",
    "        'size'   : 8}\n",
    "\n",
    "sorted_count = sorted(count.items(), key=lambda x:x[1])\n",
    "\n",
    "# Using map for 0 index\n",
    "keys = list(map(lambda x: x[0], sorted_count))\n",
    " \n",
    "# Using map for 1 index\n",
    "values = list(map(lambda x: x[1], sorted_count))\n",
    "\n",
    "print(list(keys))\n",
    "print(list(values))\n",
    "\n",
    "y_pos = np.arange(len(list(keys)))\n",
    "\n",
    "plt.figure(figsize=(12,8))\n",
    "plt.bar(y_pos, values)\n",
    "plt.xticks(y_pos, keys, **font)\n",
    "plt.xlabel(\"Part of speech\")\n",
    "plt.ylabel(\"Count\")"
   ]
  },
  {
   "cell_type": "code",
   "execution_count": 10,
   "metadata": {},
   "outputs": [
    {
     "name": "stdout",
     "output_type": "stream",
     "text": [
      "['PROPN', 'PUNCT', 'ADJ', 'NOUN', 'VERB', 'DET', 'ADP', 'AUX', 'PRON', 'PART', 'SCONJ', 'NUM', 'ADV', 'CCONJ', 'X', 'INTJ', 'SYM']\n",
      "[12946, 23679, 12477, 34781, 23081, 16285, 17638, 12343, 18577, 5567, 3843, 3999, 10548, 6707, 847, 688, 599]\n",
      "688\n"
     ]
    },
    {
     "data": {
      "text/plain": [
       "Text(0, 0.5, 'Count')"
      ]
     },
     "execution_count": 10,
     "metadata": {},
     "output_type": "execute_result"
    },
    {
     "data": {
      "image/png": "[encoded data removed]",
      "text/plain": [
       "<Figure size 720x432 with 1 Axes>"
      ]
     },
     "metadata": {
      "needs_background": "light"
     },
     "output_type": "display_data"
    }
   ],
   "source": [
    "import matplotlib.pyplot as plt\n",
    "import numpy as np\n",
    "\n",
    "font = {'family' : 'normal',\n",
    "        'size'   : 8}\n",
    "\n",
    "print(list(count.keys()))\n",
    "print(list(count.values()))\n",
    "print(count['INTJ'])\n",
    "y_pos = np.arange(len(list(count.keys())))\n",
    "\n",
    "plt.figure(figsize=(10,6))\n",
    "plt.bar(y_pos, list(count.values()))\n",
    "plt.xticks(y_pos, list(count.keys()), **font)\n",
    "plt.xlabel(\"Part of speech\")\n",
    "plt.ylabel(\"Count\")"
   ]
  },
  {
   "attachments": {},
   "cell_type": "markdown",
   "metadata": {},
   "source": [
    "Looks like there are more nouns than other parts of speech. "
   ]
  },
  {
   "cell_type": "code",
   "execution_count": 19,
   "metadata": {},
   "outputs": [
    {
     "data": {
      "text/plain": [
       "0.16999095818772758"
      ]
     },
     "execution_count": 19,
     "metadata": {},
     "output_type": "execute_result"
    }
   ],
   "source": [
    "count['NOUN'] / n_words"
   ]
  },
  {
   "attachments": {},
   "cell_type": "markdown",
   "metadata": {},
   "source": [
    "# MODEL ARCHITECTURE\n",
    "- Semantic Role Labelling?\n",
    "- Dropout layer?\n",
    "- BiLSTM?\n",
    "- Gated Residual Connection?\n",
    "- Autoregressive Language Models?\n",
    "- Perplexity?\n",
    "- "
   ]
  },
  {
   "attachments": {},
   "cell_type": "markdown",
   "metadata": {},
   "source": [
    "# TRAINING"
   ]
  },
  {
   "attachments": {},
   "cell_type": "markdown",
   "metadata": {},
   "source": [
    "### Data Loader"
   ]
  },
  {
   "cell_type": "code",
   "execution_count": 20,
   "metadata": {},
   "outputs": [],
   "source": [
    "MIN_FREQ = 2\n",
    "\n",
    "TEXT.build_vocab(train_data, \n",
    "                 min_freq = MIN_FREQ,\n",
    "                 vectors = \"glove.6B.100d\",\n",
    "                 unk_init = torch.Tensor.normal_)\n",
    "\n",
    "\n",
    "UD_TAGS.build_vocab(train_data)"
   ]
  },
  {
   "cell_type": "code",
   "execution_count": 23,
   "metadata": {},
   "outputs": [],
   "source": [
    "BATCH_SIZE = 128\n",
    "\n",
    "dev = torch.device('cuda' if torch.cuda.is_available() else 'cpu')\n",
    "\n",
    "train_iterator, valid_iterator, test_iterator = data.BucketIterator.splits(\n",
    "    (train_data, valid_data, test_data), \n",
    "    batch_size = BATCH_SIZE,\n",
    "    device = dev)"
   ]
  },
  {
   "cell_type": "code",
   "execution_count": 24,
   "metadata": {},
   "outputs": [],
   "source": [
    "class BiLSTMPOSTagger(nn.Module):\n",
    "    def __init__(self, \n",
    "                 input_dim, \n",
    "                 embedding_dim, \n",
    "                 hidden_dim, \n",
    "                 output_dim, \n",
    "                 n_layers, \n",
    "                 bidirectional, \n",
    "                 dropout, \n",
    "                 pad_idx):\n",
    "        \n",
    "        super().__init__()\n",
    "        \n",
    "        self.embedding = nn.Embedding(input_dim, embedding_dim, padding_idx = pad_idx)\n",
    "        \n",
    "        self.lstm = nn.LSTM(embedding_dim, \n",
    "                            hidden_dim, \n",
    "                            num_layers = n_layers, \n",
    "                            bidirectional = bidirectional,\n",
    "                            dropout = dropout if n_layers > 1 else 0)\n",
    "        \n",
    "        self.fc = nn.Linear(hidden_dim * 2 if bidirectional else hidden_dim, output_dim)\n",
    "        \n",
    "        self.dropout = nn.Dropout(dropout)\n",
    "        \n",
    "    def forward(self, text):\n",
    "\n",
    "        #text = [sent len, batch size]\n",
    "        \n",
    "        #pass text through embedding layer\n",
    "        embedded = self.dropout(self.embedding(text))\n",
    "        \n",
    "        #embedded = [sent len, batch size, emb dim]\n",
    "        \n",
    "        #pass embeddings into LSTM\n",
    "        outputs, (hidden, cell) = self.lstm(embedded)\n",
    "        \n",
    "        #outputs holds the backward and forward hidden states in the final layer\n",
    "        #hidden and cell are the backward and forward hidden and cell states at the final time-step\n",
    "        \n",
    "        #output = [sent len, batch size, hid dim * n directions]\n",
    "        #hidden/cell = [n layers * n directions, batch size, hid dim]\n",
    "        \n",
    "        #we use our outputs to make a prediction of what the tag should be\n",
    "        predictions = self.fc(self.dropout(outputs))\n",
    "        \n",
    "        #predictions = [sent len, batch size, output dim]\n",
    "        \n",
    "        return predictions"
   ]
  },
  {
   "cell_type": "code",
   "execution_count": 25,
   "metadata": {},
   "outputs": [],
   "source": [
    "INPUT_DIM = len(TEXT.vocab)\n",
    "EMBEDDING_DIM = 100\n",
    "HIDDEN_DIM = 128\n",
    "OUTPUT_DIM = len(UD_TAGS.vocab)\n",
    "N_LAYERS = 2\n",
    "BIDIRECTIONAL = True\n",
    "DROPOUT = 0.25\n",
    "PAD_IDX = TEXT.vocab.stoi[TEXT.pad_token]\n",
    "\n",
    "model = BiLSTMPOSTagger(INPUT_DIM, \n",
    "                        EMBEDDING_DIM, \n",
    "                        HIDDEN_DIM, \n",
    "                        OUTPUT_DIM, \n",
    "                        N_LAYERS, \n",
    "                        BIDIRECTIONAL, \n",
    "                        DROPOUT, \n",
    "                        PAD_IDX)"
   ]
  },
  {
   "cell_type": "code",
   "execution_count": 26,
   "metadata": {},
   "outputs": [
    {
     "data": {
      "text/plain": [
       "BiLSTMPOSTagger(\n",
       "  (embedding): Embedding(8866, 100, padding_idx=1)\n",
       "  (lstm): LSTM(100, 128, num_layers=2, dropout=0.25, bidirectional=True)\n",
       "  (fc): Linear(in_features=256, out_features=18, bias=True)\n",
       "  (dropout): Dropout(p=0.25, inplace=False)\n",
       ")"
      ]
     },
     "execution_count": 26,
     "metadata": {},
     "output_type": "execute_result"
    }
   ],
   "source": [
    "def init_weights(m):\n",
    "    for name, param in m.named_parameters():\n",
    "        nn.init.normal_(param.data, mean = 0, std = 0.1)\n",
    "        \n",
    "model.apply(init_weights)"
   ]
  },
  {
   "cell_type": "code",
   "execution_count": 27,
   "metadata": {},
   "outputs": [
    {
     "name": "stdout",
     "output_type": "stream",
     "text": [
      "The model has 1,522,010 trainable parameters\n"
     ]
    }
   ],
   "source": [
    "def count_parameters(model):\n",
    "    return sum(p.numel() for p in model.parameters() if p.requires_grad)\n",
    "\n",
    "print(f'The model has {count_parameters(model):,} trainable parameters')"
   ]
  },
  {
   "cell_type": "code",
   "execution_count": 28,
   "metadata": {},
   "outputs": [
    {
     "name": "stdout",
     "output_type": "stream",
     "text": [
      "torch.Size([8866, 100])\n"
     ]
    }
   ],
   "source": [
    "pretrained_embeddings = TEXT.vocab.vectors\n",
    "\n",
    "print(pretrained_embeddings.shape)"
   ]
  },
  {
   "cell_type": "code",
   "execution_count": 29,
   "metadata": {},
   "outputs": [
    {
     "data": {
      "text/plain": [
       "tensor([[ 0.2413, -0.5423,  1.4786,  ..., -0.3262,  0.1403,  2.1207],\n",
       "        [-0.7877,  0.4504,  0.8650,  ...,  1.6344,  0.1016, -0.5172],\n",
       "        [-0.0382, -0.2449,  0.7281,  ..., -0.1459,  0.8278,  0.2706],\n",
       "        ...,\n",
       "        [ 0.4977,  0.8511,  0.3970,  ...,  0.5901, -0.9220,  0.0835],\n",
       "        [-0.5972,  0.0471, -0.2406,  ..., -0.9446, -0.1126, -0.2260],\n",
       "        [-1.0683, -0.0369, -0.8427,  ..., -0.8793,  0.5355,  0.6441]])"
      ]
     },
     "execution_count": 29,
     "metadata": {},
     "output_type": "execute_result"
    }
   ],
   "source": [
    "model.embedding.weight.data.copy_(pretrained_embeddings)"
   ]
  },
  {
   "cell_type": "code",
   "execution_count": 30,
   "metadata": {},
   "outputs": [
    {
     "name": "stdout",
     "output_type": "stream",
     "text": [
      "tensor([[ 0.2413, -0.5423,  1.4786,  ..., -0.3262,  0.1403,  2.1207],\n",
      "        [ 0.0000,  0.0000,  0.0000,  ...,  0.0000,  0.0000,  0.0000],\n",
      "        [-0.0382, -0.2449,  0.7281,  ..., -0.1459,  0.8278,  0.2706],\n",
      "        ...,\n",
      "        [ 0.4977,  0.8511,  0.3970,  ...,  0.5901, -0.9220,  0.0835],\n",
      "        [-0.5972,  0.0471, -0.2406,  ..., -0.9446, -0.1126, -0.2260],\n",
      "        [-1.0683, -0.0369, -0.8427,  ..., -0.8793,  0.5355,  0.6441]])\n"
     ]
    }
   ],
   "source": [
    "model.embedding.weight.data[PAD_IDX] = torch.zeros(EMBEDDING_DIM)\n",
    "\n",
    "print(model.embedding.weight.data)"
   ]
  },
  {
   "cell_type": "code",
   "execution_count": 31,
   "metadata": {},
   "outputs": [],
   "source": [
    "optimizer = optim.Adam(model.parameters())\n",
    "TAG_PAD_IDX = UD_TAGS.vocab.stoi[UD_TAGS.pad_token]\n",
    "\n",
    "criterion = nn.CrossEntropyLoss(ignore_index = TAG_PAD_IDX)\n",
    "model = model.to(dev)\n",
    "criterion = criterion.to(dev)"
   ]
  },
  {
   "cell_type": "code",
   "execution_count": 32,
   "metadata": {},
   "outputs": [],
   "source": [
    "def categorical_accuracy(preds, y, tag_pad_idx):\n",
    "    \"\"\"\n",
    "    Returns accuracy per batch, i.e. if you get 8/10 right, this returns 0.8, NOT 8\n",
    "    \"\"\"\n",
    "    max_preds = preds.argmax(dim = 1, keepdim = True) # get the index of the max probability\n",
    "    non_pad_elements = (y != tag_pad_idx).nonzero()\n",
    "    correct = max_preds[non_pad_elements].squeeze(1).eq(y[non_pad_elements])\n",
    "    return correct.sum() / torch.FloatTensor([y[non_pad_elements].shape[0]])"
   ]
  },
  {
   "cell_type": "code",
   "execution_count": 33,
   "metadata": {},
   "outputs": [],
   "source": [
    "def train(model, iterator, optimizer, criterion, tag_pad_idx):\n",
    "    \n",
    "    epoch_loss = 0\n",
    "    epoch_acc = 0\n",
    "    \n",
    "    model.train()\n",
    "    \n",
    "    for batch in iterator:\n",
    "        \n",
    "        text = batch.text\n",
    "        tags = batch.udtags\n",
    "        \n",
    "        optimizer.zero_grad()\n",
    "        \n",
    "        #text = [sent len, batch size]\n",
    "        \n",
    "        predictions = model(text)\n",
    "        \n",
    "        #predictions = [sent len, batch size, output dim]\n",
    "        #tags = [sent len, batch size]\n",
    "        \n",
    "        predictions = predictions.view(-1, predictions.shape[-1])\n",
    "        tags = tags.view(-1)\n",
    "        \n",
    "        #predictions = [sent len * batch size, output dim]\n",
    "        #tags = [sent len * batch size]\n",
    "        \n",
    "        loss = criterion(predictions, tags)\n",
    "                \n",
    "        acc = categorical_accuracy(predictions, tags, tag_pad_idx)\n",
    "        \n",
    "        loss.backward()\n",
    "        \n",
    "        optimizer.step()\n",
    "        \n",
    "        epoch_loss += loss.item()\n",
    "        epoch_acc += acc.item()\n",
    "        \n",
    "    return epoch_loss / len(iterator), epoch_acc / len(iterator)"
   ]
  },
  {
   "cell_type": "code",
   "execution_count": 34,
   "metadata": {},
   "outputs": [],
   "source": [
    "def evaluate(model, iterator, criterion, tag_pad_idx):\n",
    "    \n",
    "    epoch_loss = 0\n",
    "    epoch_acc = 0\n",
    "    \n",
    "    model.eval()\n",
    "    \n",
    "    with torch.no_grad():\n",
    "    \n",
    "        for batch in iterator:\n",
    "\n",
    "            text = batch.text\n",
    "            tags = batch.udtags\n",
    "            \n",
    "            predictions = model(text)\n",
    "            \n",
    "            predictions = predictions.view(-1, predictions.shape[-1])\n",
    "            tags = tags.view(-1)\n",
    "            \n",
    "            loss = criterion(predictions, tags)\n",
    "            \n",
    "            acc = categorical_accuracy(predictions, tags, tag_pad_idx)\n",
    "\n",
    "            epoch_loss += loss.item()\n",
    "            epoch_acc += acc.item()\n",
    "        \n",
    "    return epoch_loss / len(iterator), epoch_acc / len(iterator)"
   ]
  },
  {
   "cell_type": "code",
   "execution_count": 35,
   "metadata": {},
   "outputs": [],
   "source": [
    "def epoch_time(start_time, end_time):\n",
    "    elapsed_time = end_time - start_time\n",
    "    elapsed_mins = int(elapsed_time / 60)\n",
    "    elapsed_secs = int(elapsed_time - (elapsed_mins * 60))\n",
    "    return elapsed_mins, elapsed_secs"
   ]
  },
  {
   "cell_type": "code",
   "execution_count": 36,
   "metadata": {},
   "outputs": [
    {
     "name": "stderr",
     "output_type": "stream",
     "text": [
      "/var/folders/5_/w86z03f971n58jbfq5xgkc0r0000gn/T/ipykernel_91996/3869399929.py:6: UserWarning: This overload of nonzero is deprecated:\n",
      "\tnonzero()\n",
      "Consider using one of the following signatures instead:\n",
      "\tnonzero(*, bool as_tuple) (Triggered internally at  ../torch/csrc/utils/python_arg_parser.cpp:882.)\n",
      "  non_pad_elements = (y != tag_pad_idx).nonzero()\n"
     ]
    },
    {
     "name": "stdout",
     "output_type": "stream",
     "text": [
      "Epoch: 01 | Epoch Time: 1m 40s\n",
      "\tTrain Loss: 1.328 | Train Acc: 58.62%\n",
      "\t Val. Loss: 0.683 |  Val. Acc: 78.39%\n",
      "Epoch: 02 | Epoch Time: 1m 31s\n",
      "\tTrain Loss: 0.483 | Train Acc: 84.77%\n",
      "\t Val. Loss: 0.501 |  Val. Acc: 83.84%\n",
      "Epoch: 03 | Epoch Time: 1m 32s\n",
      "\tTrain Loss: 0.354 | Train Acc: 88.86%\n",
      "\t Val. Loss: 0.444 |  Val. Acc: 85.16%\n"
     ]
    }
   ],
   "source": [
    "N_EPOCHS = 3\n",
    "\n",
    "best_valid_loss = float('inf')\n",
    "\n",
    "for epoch in range(N_EPOCHS):\n",
    "\n",
    "    start_time = time.time()\n",
    "    \n",
    "    train_loss, train_acc = train(model, train_iterator, optimizer, criterion, TAG_PAD_IDX)\n",
    "    valid_loss, valid_acc = evaluate(model, valid_iterator, criterion, TAG_PAD_IDX)\n",
    "    \n",
    "    end_time = time.time()\n",
    "\n",
    "    epoch_mins, epoch_secs = epoch_time(start_time, end_time)\n",
    "    \n",
    "    if valid_loss < best_valid_loss:\n",
    "        best_valid_loss = valid_loss\n",
    "        torch.save(model.state_dict(), 'tut1-model.pt')\n",
    "    \n",
    "    print(f'Epoch: {epoch+1:02} | Epoch Time: {epoch_mins}m {epoch_secs}s')\n",
    "    print(f'\\tTrain Loss: {train_loss:.3f} | Train Acc: {train_acc*100:.2f}%')\n",
    "    print(f'\\t Val. Loss: {valid_loss:.3f} |  Val. Acc: {valid_acc*100:.2f}%')"
   ]
  },
  {
   "cell_type": "code",
   "execution_count": 37,
   "metadata": {},
   "outputs": [
    {
     "name": "stdout",
     "output_type": "stream",
     "text": [
      "['[', 'this', 'killing', 'of', 'a', 'respected', 'cleric', 'will', 'be', 'causing', 'us', 'trouble', 'for', 'years', 'to', 'come', '.', ']']\n"
     ]
    }
   ],
   "source": [
    "example_index = 1\n",
    "\n",
    "sentence = vars(train_data.examples[example_index])['text']\n",
    "actual_tags = vars(train_data.examples[example_index])['udtags']\n",
    "\n",
    "print(sentence)"
   ]
  },
  {
   "cell_type": "code",
   "execution_count": 43,
   "metadata": {},
   "outputs": [
    {
     "name": "stdout",
     "output_type": "stream",
     "text": [
      "['The', 'old', 'man', 'the', 'boat']\n",
      "      word  pred_tag\n",
      "\n",
      "       the       DET\n",
      "       old       ADJ\n",
      "       man      NOUN\n",
      "       the       DET\n",
      "      boat      NOUN\n",
      "['The', 'man', 'who', 'hunts', 'ducks', 'out', 'on', 'weekends', '.']\n",
      "      word  pred_tag\n",
      "\n",
      "       the       DET\n",
      "       man      NOUN\n",
      "       who      PRON\n",
      "     hunts      VERB\n",
      "     ducks      VERB\n",
      "       out       ADP\n",
      "        on       ADP\n",
      "  weekends      NOUN\n",
      "         .     PUNCT\n",
      "['The', 'complex', 'houses', 'married', 'and', 'single', 'soldiers', 'and', 'their', 'families', '.']\n",
      "      word  pred_tag\n",
      "\n",
      "       the       DET\n",
      "   complex       ADJ\n",
      "    houses      NOUN\n",
      "   married      VERB\n",
      "       and     CCONJ\n",
      "    single       ADJ\n",
      "  soldiers      NOUN\n",
      "       and     CCONJ\n",
      "     their      PRON\n",
      "  families      NOUN\n",
      "         .     PUNCT\n"
     ]
    }
   ],
   "source": [
    "import spacy\n",
    "import en_core_web_sm\n",
    "\n",
    "def tag_sentence(model, dev, sentence, text_field, tag_field):\n",
    "    # Enter evaluation mode\n",
    "    model.eval()\n",
    "    with torch.no_grad():\n",
    "        if isinstance(sentence, str):\n",
    "            nlp = spacy.load(\"en_core_web_sm\")\n",
    "            words = [word.text for word in nlp(sentence)]\n",
    "            print(words)\n",
    "        else:\n",
    "            words = [word for word in sentence]\n",
    "\n",
    "        if text_field.lower:\n",
    "            words = [w.lower() for w in words]\n",
    "\n",
    "        tokens = [text_field.vocab.stoi[t] for t in words]\n",
    "        unk_idx = text_field.vocab.stoi[text_field.unk_token]\n",
    "        unks = [t for t, n in zip(words, tokens) if n == unk_idx]\n",
    "        token_tensor = torch.LongTensor(tokens)\n",
    "        token_tensor = token_tensor.unsqueeze(-1).to(dev)\n",
    "\n",
    "        preds = model(token_tensor)\n",
    "        top_preds = preds.argmax(-1)\n",
    "\n",
    "        pred_tags = [tag_field.vocab.itos[t.item()] for t in top_preds]\n",
    "    \n",
    "    return words, pred_tags, unks\n",
    "\n",
    "for sentence in [\"The old man the boat\",\n",
    "                \"The man who hunts ducks out on weekends.\",\n",
    "                \"The complex houses married and single soldiers and their families.\"]:\n",
    "\n",
    "    words, pred_tags, unks = tag_sentence(model, \n",
    "                                        dev, \n",
    "                                        sentence,\n",
    "                                        TEXT, \n",
    "                                        UD_TAGS)\n",
    "\n",
    "    print(\"%10s%10s\\n\" % ('word','pred_tag'))\n",
    "\n",
    "    for word, pred_tag in zip(words, pred_tags):\n",
    "        print(\"%10s%10s\" % (word,pred_tag))"
   ]
  },
  {
   "cell_type": "code",
   "execution_count": 39,
   "metadata": {},
   "outputs": [
    {
     "name": "stdout",
     "output_type": "stream",
     "text": [
      "Pred. Tag\tActual Tag\tCorrect?\tToken\n",
      "\n",
      "DET\t\tPUNCT\t\t✘\t\tthe\n",
      "ADJ\t\tDET\t\t✘\t\told\n",
      "NOUN\t\tNOUN\t\t✔\t\tman\n",
      "DET\t\tADP\t\t✘\t\tthe\n",
      "NOUN\t\tDET\t\t✘\t\tboat\n"
     ]
    }
   ],
   "source": [
    "print(\"Pred. Tag\\tActual Tag\\tCorrect?\\tToken\\n\")\n",
    "\n",
    "for token, pred_tag, actual_tag in zip(tokens, pred_tags, actual_tags):\n",
    "    correct = '✔' if pred_tag == actual_tag else '✘'\n",
    "    print(f\"{pred_tag}\\t\\t{actual_tag}\\t\\t{correct}\\t\\t{token}\")"
   ]
  }
 ],
 "metadata": {
  "kernelspec": {
   "display_name": "torch-mps",
   "language": "python",
   "name": "python3"
  },
  "language_info": {
   "codemirror_mode": {
    "name": "ipython",
    "version": 3
   },
   "file_extension": ".py",
   "mimetype": "text/x-python",
   "name": "python",
   "nbconvert_exporter": "python",
   "pygments_lexer": "ipython3",
   "version": "3.9.13"
  },
  "orig_nbformat": 4,
  "vscode": {
   "interpreter": {
    "hash": "9a774efc780e3ed3d185d4b892a1551ca32d44f13ca17aa5776fa992d8b63731"
   }
  }
 },
 "nbformat": 4,
 "nbformat_minor": 2
}
